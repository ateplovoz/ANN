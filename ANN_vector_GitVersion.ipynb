{
 "cells": [
  {
   "cell_type": "code",
   "execution_count": 379,
   "metadata": {
    "collapsed": true
   },
   "outputs": [],
   "source": [
    "import csv\n",
    "import numpy as np\n",
    "import matplotlib.pyplot as plt\n",
    "import ANN_classes\n",
    "%matplotlib inline"
   ]
  },
  {
   "cell_type": "code",
   "execution_count": 2,
   "metadata": {
    "collapsed": false
   },
   "outputs": [],
   "source": [
    "csvdata = []\n",
    "with open('data_m.csv', 'rb') as gtu_file:\n",
    "    reader = csv.reader(gtu_file)\n",
    "    for row in reader: \n",
    "        csvdata.append(row)\n",
    "data_m = np.array(csvdata, str)"
   ]
  },
  {
   "cell_type": "code",
   "execution_count": 3,
   "metadata": {
    "collapsed": false
   },
   "outputs": [],
   "source": [
    "data_Nfp = np.add(\n",
    "            np.multiply(\n",
    "                data_m[:, 13].astype(float),\n",
    "                data_m[:, 14].astype(float)),\n",
    "            data_m[:, 28].astype(float))"
   ]
  },
  {
   "cell_type": "code",
   "execution_count": 4,
   "metadata": {
    "collapsed": false
   },
   "outputs": [],
   "source": [
    "Qvpg = 8251*4.1868  # кДж/м3\n",
    "rhopg = 0.7078  # кг/м3\n",
    "Qmpg = Qvpg / rhopg # кДж/кг"
   ]
  },
  {
   "cell_type": "code",
   "execution_count": 5,
   "metadata": {
    "collapsed": false
   },
   "outputs": [],
   "source": [
    "Qmptr = []\n",
    "Qvptr = []\n",
    "Etam = np.array([])\n",
    "\n",
    "for i in np.arange(len(data_m)):\n",
    "    # массовый расход\n",
    "    Qmptr.append(Qmpg*float(data_m[i, 36])/3600)  # кДж*с\n",
    "    try:\n",
    "        Etam = np.append(Etam, float(data_Nfp[i])/(Qmptr[i]*1000))  # %\n",
    "    except ZeroDivisionError:\n",
    "        Etam = np.append(Etam, 0)"
   ]
  },
  {
   "cell_type": "code",
   "execution_count": 2042,
   "metadata": {
    "collapsed": false
   },
   "outputs": [],
   "source": [
    "N_ladder = [np.arange(*i) for i in [(118, 174), (184,304), (310,372), (374,476), (486,574), (586,648),\n",
    "                                    (676,760), (770,844), (852,1058), (1130,1402), (1412,1486), (1498,1594),\n",
    "                                    (1700,1734),  # Вот здесь будем приклеивать ещё один кусочек\n",
    "                                    (1820,1892), (1896,1950), (2042,2132)]]\n",
    "N_ladder[12] = np.append(N_ladder[12], np.arange(1798,1818))  # Доклеиваем кусочек\n",
    "\n",
    "# Выборки по мощности и остальным параметрам (необработанные)\n",
    "data_Nfp_seq = [data_Nfp[i] for i in N_ladder]\n",
    "data_Etam = [Etam[i] for i in N_ladder]\n",
    "data_TET = [data_m[i, 3].astype(float) for i in N_ladder]\n",
    "# data_Tug = [data_criomean[i] for i in N_ladder]\n",
    "data_nob = [data_m[i, 1].astype(float) for i in N_ladder]\n",
    "data_G1t = [data_m[i, 36].astype(float) for i in N_ladder]\n",
    "data_Ptp = [data_m[i, 11].astype(float) for i in N_ladder]\n",
    "# data_Nsn_ld = [data_Nsn[i] for i in N_ladder]"
   ]
  },
  {
   "cell_type": "code",
   "execution_count": 2043,
   "metadata": {
    "collapsed": false
   },
   "outputs": [],
   "source": [
    "import custom_classes\n",
    "reload(custom_classes)\n",
    "sWorker = custom_classes.StatWorker()"
   ]
  },
  {
   "cell_type": "code",
   "execution_count": 2044,
   "metadata": {
    "collapsed": false
   },
   "outputs": [],
   "source": [
    "data_Etam_mask = [sWorker.clean3sigma(i) for i in data_Etam]\n",
    "data_Etam_Nfp_mask = [sWorker.clean3sigma(i[0][i[1]]) for i in zip(data_Nfp_seq, data_Etam_mask)]\n",
    "sWorker.set_alpha(0.05)\n",
    "data_Nfp_Etam_seq_masked_means = [i[0][i[1]][i[2]].mean() \n",
    "                             for i in zip(data_Nfp_seq, data_Etam_mask, data_Etam_Nfp_mask)]\n",
    "data_Nfp_Etam_seq_masked_means = np.array(data_Nfp_Etam_seq_masked_means)\n",
    "data_Etam_masked_means = [i[0][i[1]][i[2]].mean() \n",
    "                          for i in zip(data_Etam, data_Etam_mask, data_Etam_Nfp_mask)]\n",
    "data_Etam_masked_means = np.array(data_Etam_masked_means)\n",
    "data_Etam_conf = [sWorker.conf_level(i[0][i[1]][i[2]])['rng'] for i in zip(data_Etam, data_Etam_mask, data_Etam_Nfp_mask)]\n",
    "data_Nfp_Etam_conf = [sWorker.conf_level(i[0][i[1]][i[2]])['rng'] for i in zip(data_Nfp_seq, data_Etam_mask, data_Etam_Nfp_mask)]"
   ]
  },
  {
   "cell_type": "code",
   "execution_count": 2045,
   "metadata": {
    "collapsed": false
   },
   "outputs": [],
   "source": [
    "# ТЕТ\n",
    "data_TET_mask = [sWorker.clean3sigma(i) for i in data_TET]\n",
    "data_TET_Nfp_mask = [sWorker.clean3sigma(i[0][i[1]]) for i in zip(data_Nfp_seq, data_TET_mask)]\n",
    "data_Nfp_TET_seq_masked_means = [i[0][i[1]][i[2]].mean() for i in zip(data_Nfp_seq, data_TET_mask, data_TET_Nfp_mask)]\n",
    "data_TET_masked_means = [i[0][i[1]][i[2]].mean() for i in zip(data_TET, data_TET_mask, data_TET_Nfp_mask)]\n",
    "data_TET_conf = [sWorker.conf_level(i[0][i[1]][i[2]])['rng'] for i in zip(data_TET, data_TET_mask, data_TET_Nfp_mask)]\n",
    "data_Nfp_TET_conf = [sWorker.conf_level(i[0][i[1]][i[2]])['rng'] for i in zip(data_Nfp_seq, data_TET_mask, data_TET_Nfp_mask)]\n",
    "# Tug\n",
    "# data_Tug_mask = [sWorker.clean3sigma(i) for i in data_Tug]\n",
    "# data_Tug_Nfp_mask = [sWorker.clean3sigma(i[0][i[1]]) for i in zip(data_Nfp_seq, data_Tug_mask)]\n",
    "# data_Nfp_Tug_seq_masked_means = [i[0][i[1]][i[2]].mean() for i in zip(data_Nfp_seq, data_Tug_mask, data_Tug_Nfp_mask)]\n",
    "# data_Tug_masked_means = [i[0][i[1]][i[2]].mean() for i in zip(data_Tug, data_Tug_mask, data_Tug_Nfp_mask)]\n",
    "# data_Tug_conf = [sWorker.conf_level(i[0][i[1]][i[2]])['rng'] for i in zip(data_Tug, data_Tug_mask, data_Tug_Nfp_mask)]\n",
    "# data_Nfp_Tug_conf = [sWorker.conf_level(i[0][i[1]][i[2]])['rng'] for i in zip(data_Nfp_seq, data_Tug_mask, data_Tug_Nfp_mask)]\n",
    "# nob\n",
    "data_nob_mask = [sWorker.clean3sigma(i) for i in data_nob]\n",
    "data_nob_Nfp_mask = [sWorker.clean3sigma(i[0][i[1]]) for i in zip(data_Nfp_seq, data_nob_mask)]\n",
    "data_Nfp_nob_seq_masked_means = [i[0][i[1]][i[2]].mean() for i in zip(data_Nfp_seq, data_nob_mask, data_nob_Nfp_mask)]\n",
    "data_nob_masked_means = [i[0][i[1]][i[2]].mean() for i in zip(data_nob, data_nob_mask, data_nob_Nfp_mask)]\n",
    "data_nob_conf = [sWorker.conf_level(i[0][i[1]][i[2]])['rng'] for i in zip(data_nob, data_nob_mask, data_nob_Nfp_mask)]\n",
    "data_Nfp_nob_conf = [sWorker.conf_level(i[0][i[1]][i[2]])['rng'] for i in zip(data_Nfp_seq, data_nob_mask, data_nob_Nfp_mask)]\n",
    "# G1t\n",
    "data_G1t_mask = [sWorker.clean3sigma(i) for i in data_G1t]\n",
    "data_G1t_Nfp_mask = [sWorker.clean3sigma(i[0][i[1]]) for i in zip(data_Nfp_seq, data_G1t_mask)]\n",
    "data_Nfp_G1t_seq_masked_means = [i[0][i[1]][i[2]].mean() for i in zip(data_Nfp_seq, data_G1t_mask, data_G1t_Nfp_mask)]\n",
    "data_G1t_masked_means = [i[0][i[1]][i[2]].mean() for i in zip(data_G1t, data_G1t_mask, data_G1t_Nfp_mask)]\n",
    "data_G1t_conf = [sWorker.conf_level(i[0][i[1]][i[2]])['rng'] for i in zip(data_G1t, data_G1t_mask, data_G1t_Nfp_mask)]\n",
    "data_Nfp_G1t_conf = [sWorker.conf_level(i[0][i[1]][i[2]])['rng'] for i in zip(data_Nfp_seq, data_G1t_mask, data_G1t_Nfp_mask)]\n",
    "# Ptp\n",
    "data_Ptp_mask = [sWorker.clean3sigma(i) for i in data_Ptp]\n",
    "data_Ptp_Nfp_mask = [sWorker.clean3sigma(i[0][i[1]]) for i in zip(data_Nfp_seq, data_Ptp_mask)]\n",
    "data_Nfp_Ptp_seq_masked_means = [i[0][i[1]][i[2]].mean() for i in zip(data_Nfp_seq, data_Ptp_mask, data_Ptp_Nfp_mask)]\n",
    "data_Ptp_masked_means = [i[0][i[1]][i[2]].mean() for i in zip(data_Ptp, data_Ptp_mask, data_Ptp_Nfp_mask)]\n",
    "data_Ptp_conf = [sWorker.conf_level(i[0][i[1]][i[2]])['rng'] for i in zip(data_Ptp, data_Ptp_mask, data_Ptp_Nfp_mask)]\n",
    "data_Nfp_Ptp_conf = [sWorker.conf_level(i[0][i[1]][i[2]])['rng'] for i in zip(data_Nfp_seq, data_Ptp_mask, data_Ptp_Nfp_mask)]\n",
    "# Nsn_ld\n",
    "# data_Nsn_ld_mask = [sWorker.clean3sigma(i) for i in data_Nsn_ld]\n",
    "# data_Nsn_ld_Nfp_mask = [sWorker.clean3sigma(i[0][i[1]]) for i in zip(data_Nfp_seq, data_Nsn_ld_mask)]\n",
    "# data_Nfp_Nsn_ld_seq_masked_means = [i[0][i[1]][i[2]].mean() for i in zip(data_Nfp_seq, data_Nsn_ld_mask, data_Nsn_ld_Nfp_mask)]\n",
    "# data_Nsn_ld_masked_means = [i[0][i[1]][i[2]].mean() for i in zip(data_Nsn_ld, data_Nsn_ld_mask, data_Nsn_ld_Nfp_mask)]\n",
    "# data_Nsn_ld_conf = [sWorker.conf_level(i[0][i[1]][i[2]])['rng'] for i in zip(data_Nsn_ld, data_Nsn_ld_mask, data_Nsn_ld_Nfp_mask)]\n",
    "# data_Nfp_Nsn_ld_conf = [sWorker.conf_level(i[0][i[1]][i[2]])['rng'] for i in zip(data_Nfp_seq, data_Nsn_ld_mask, data_Nsn_ld_Nfp_mask)]"
   ]
  },
  {
   "cell_type": "code",
   "execution_count": 1605,
   "metadata": {
    "collapsed": false,
    "scrolled": true
   },
   "outputs": [
    {
     "data": {
      "image/png": "[encoded data removed]",
      "text/plain": [
       "<matplotlib.figure.Figure at 0x13a8beb8>"
      ]
     },
     "metadata": {},
     "output_type": "display_data"
    }
   ],
   "source": [
    "fig = plt.figure()\n",
    "ax1 = plt.subplot(111)\n",
    "ax1.plot(data_Nfp_Etam_seq_masked_means/1000-15, data_Etam_masked_means, 'k.')\n",
    "ax1.grid(True)\n",
    "plt.show()"
   ]
  },
  {
   "cell_type": "code",
   "execution_count": 2048,
   "metadata": {
    "collapsed": false,
    "scrolled": true
   },
   "outputs": [
    {
     "data": {
      "image/png": "[encoded data removed]",
      "text/plain": [
       "<matplotlib.figure.Figure at 0x13765e48>"
      ]
     },
     "metadata": {},
     "output_type": "display_data"
    }
   ],
   "source": [
    "fig = plt.figure()\n",
    "ax1 = plt.subplot(111)\n",
    "ax1.plot(data_Nfp_TET_seq_masked_means, data_TET_masked_means, 'k.')\n",
    "ax1.grid(True)\n",
    "plt.show()"
   ]
  },
  {
   "cell_type": "code",
   "execution_count": 2218,
   "metadata": {
    "collapsed": false
   },
   "outputs": [],
   "source": [
    "set_input = data_Nfp_Etam_seq_masked_means/1000-15\n",
    "set_input = np.append(set_input, [0-15])\n",
    "set_output = np.append(data_Etam_masked_means*100,[0])"
   ]
  },
  {
   "cell_type": "code",
   "execution_count": 2484,
   "metadata": {
    "collapsed": false
   },
   "outputs": [],
   "source": [
    "set_input = np.array(data_Nfp_TET_seq_masked_means)/1000.\n",
    "set_output = data_TET_masked_means"
   ]
  },
  {
   "cell_type": "code",
   "execution_count": 2337,
   "metadata": {
    "collapsed": true
   },
   "outputs": [],
   "source": [
    "set_input = np.arange(0, 50)\n",
    "set_output = (np.random.normal(0,0.1,50)*10+10)*np.linspace(1,2,50)"
   ]
  },
  {
   "cell_type": "code",
   "execution_count": 1373,
   "metadata": {
    "collapsed": true
   },
   "outputs": [],
   "source": [
    "ANN2 = ANN_classes.NNetwork(1,5,2)"
   ]
  },
  {
   "cell_type": "code",
   "execution_count": 2774,
   "metadata": {
    "collapsed": false,
    "scrolled": true
   },
   "outputs": [
    {
     "data": {
      "text/plain": [
       "<module 'ANN_classes' from 'ANN_classes.py'>"
      ]
     },
     "execution_count": 2774,
     "metadata": {},
     "output_type": "execute_result"
    }
   ],
   "source": [
    "reload(ANN_classes)"
   ]
  },
  {
   "cell_type": "code",
   "execution_count": 2775,
   "metadata": {
    "collapsed": false
   },
   "outputs": [],
   "source": [
    "ANN1 = ANN_classes.NNetwork(1, 10, 1)\n",
    "# ANN1.cfg_input(2)\n",
    "ANN1.cfg_mass()\n",
    "ANN1.cfg_type()\n",
    "# ANN1.nwgh_reset(-0.2)\n",
    "ANN1.nwgh_randomize(4,4)\n",
    "ANN_iter = 0"
   ]
  },
  {
   "cell_type": "code",
   "execution_count": 2786,
   "metadata": {
    "collapsed": false,
    "scrolled": true
   },
   "outputs": [
    {
     "name": "stdout",
     "output_type": "stream",
     "text": [
      "Ann_iter: 7\n"
     ]
    },
    {
     "name": "stderr",
     "output_type": "stream",
     "text": [
      "ANN_classes.py:92: RuntimeWarning: overflow encountered in multiply\n",
      "  \n"
     ]
    },
    {
     "data": {
      "image/png": "[encoded data removed]",
      "text/plain": [
       "<matplotlib.figure.Figure at 0x13db91d0>"
      ]
     },
     "metadata": {},
     "output_type": "display_data"
    }
   ],
   "source": [
    "for _ in xrange(1):\n",
    "    pick = np.random.randint(len(set_input))\n",
    "#     pick = 0\n",
    "    ANN1.forward([set_input[pick]])\n",
    "#     print ANN1.Vii\n",
    "    ANN1.getnetgrad([set_output[pick]])\n",
    "    ANN1.backward()\n",
    "    ANN1.ncommit()\n",
    "    ANN1.forward([set_input[pick]])\n",
    "    ANN1.VLoo[0].v[0]\n",
    "    #######\n",
    "    dxx = np.linspace(min(set_input), max(set_input), 100)\n",
    "    dyy = np.zeros([100])\n",
    "#     dyy_p = np.zeros([100,51])\n",
    "    ANN_iter += 1\n",
    "c = 0\n",
    "for x in dxx:\n",
    "    ANN1.forward([x])\n",
    "    dyy[c] = ANN1.VLoo[0].v[0]\n",
    "#     dyy_p[c] = ANN_classes.unpackval(ANN1.VL1)[0]*ANN1.Loo[0].Vw.v\n",
    "    c += 1\n",
    "print 'Ann_iter: {}'.format(ANN_iter)\n",
    "fig = plt.figure()\n",
    "ax1 = plt.subplot(111)\n",
    "# ax2 = ax1.twinx()\n",
    "ax1.plot(set_input, set_output, 'k.')\n",
    "ax1.plot(dxx, dyy, 'k-')\n",
    "# [ax1.plot(dxx, dyy_p[:,i], 'g-') for i in xrange(len(dyy_p[0, :]))]\n",
    "ax1.grid(True)\n",
    "# ax1.set_ylim(0,25)\n",
    "# ax1.set_xlim(-1,15)\n",
    "plt.show()"
   ]
  },
  {
   "cell_type": "code",
   "execution_count": 2781,
   "metadata": {
    "collapsed": false
   },
   "outputs": [
    {
     "data": {
      "text/plain": [
       "0.22636697681273837"
      ]
     },
     "execution_count": 2781,
     "metadata": {},
     "output_type": "execute_result"
    }
   ],
   "source": [
    "ANN1.L1[4].pullback"
   ]
  },
  {
   "cell_type": "code",
   "execution_count": 1433,
   "metadata": {
    "collapsed": false
   },
   "outputs": [
    {
     "data": {
      "text/plain": [
       "array([ 0.13476499,  0.5970486 , -0.29886323, -0.3401458 , -0.33021204,\n",
       "       -0.14723935,  1.51861201, -0.17028222,  0.72728721,  0.96871099,\n",
       "        0.77125347,  0.33693437,  0.76836921,  0.89971771,  1.04537141,\n",
       "        0.23253808, -0.36324752,  0.14052754, -0.01577861, -0.30930624,\n",
       "        2.86195607])"
      ]
     },
     "execution_count": 1433,
     "metadata": {},
     "output_type": "execute_result"
    }
   ],
   "source": [
    "ANN1.Loo[0].Vw.v"
   ]
  },
  {
   "cell_type": "code",
   "execution_count": 638,
   "metadata": {
    "collapsed": false
   },
   "outputs": [
    {
     "data": {
      "text/plain": [
       "array([ 1.77171665])"
      ]
     },
     "execution_count": 638,
     "metadata": {},
     "output_type": "execute_result"
    }
   ],
   "source": [
    "ANN1.Lii[0].Vw.v"
   ]
  },
  {
   "cell_type": "code",
   "execution_count": 2512,
   "metadata": {
    "collapsed": false
   },
   "outputs": [
    {
     "name": "stdout",
     "output_type": "stream",
     "text": [
      "input = 1\n",
      "Lii out = 0\n",
      "L1 out = [0, 0, 0, 0, 0, 0, 0, 0, 0, 0]\n",
      "L1 sum = 0\n",
      "Loo out = [0, 0, 0, 0, 0, 0, 0, 0, 0, 0]\n"
     ]
    },
    {
     "name": "stderr",
     "output_type": "stream",
     "text": [
      "C:\\Users\\vpribylov\\AppData\\Local\\Continuum\\Anaconda2\\lib\\site-packages\\ipykernel\\__main__.py:4: RuntimeWarning: invalid value encountered in greater\n"
     ]
    }
   ],
   "source": [
    "inp = 1\n",
    "print u'input = {}'.format(inp)\n",
    "ANN1.forward([5])\n",
    "Lii_out = max(0, inp*ANN1.Lii[0].Vw.v)\n",
    "print u'Lii out = {}'.format(Lii_out)\n",
    "L1_out = [max(0, Lii_out*neur.Vw.v[0] + neur.Vw.v[1]) for neur in ANN1.L1]\n",
    "print u'L1 out = {}'.format(L1_out)\n",
    "print u'L1 sum = {}'.format(np.sum(L1_out))\n",
    "Loo_out = [max(0, L1_syn*Loo_w+ANN1.Loo[0].Vw.v[-1]) for L1_syn, Loo_w in zip(L1_out, ANN1.Loo[0].Vw.v[:-1])]\n",
    "# Loo_out = L1_out*ANN1.Loo[0].Vw.v[:-1] + ANN1.Loo[0].Vw.v[-1]\n",
    "print u'Loo out = {}'.format(Loo_out)"
   ]
  },
  {
   "cell_type": "code",
   "execution_count": 624,
   "metadata": {
    "collapsed": false
   },
   "outputs": [
    {
     "data": {
      "text/plain": [
       "array([-0.94088116])"
      ]
     },
     "execution_count": 624,
     "metadata": {},
     "output_type": "execute_result"
    }
   ],
   "source": [
    "ANN1.Lii[0].Vw.v"
   ]
  },
  {
   "cell_type": "code",
   "execution_count": 582,
   "metadata": {
    "collapsed": false
   },
   "outputs": [
    {
     "data": {
      "text/plain": [
       "[1.2261037784347131,\n",
       " -0.94825756910732162,\n",
       " -0.34671558273263781,\n",
       " 2.7165255100859222,\n",
       " 2.0952582560237518,\n",
       " 1.0023666937299083,\n",
       " 1.7354153106662509,\n",
       " 2.4093947526163957,\n",
       " 0.22637790659794843,\n",
       " -0.76706252583584256]"
      ]
     },
     "execution_count": 582,
     "metadata": {},
     "output_type": "execute_result"
    }
   ],
   "source": [
    "[neur.Vw.v[0] for neur in ANN1.L1]\n",
    "# [neur.Vw.v[1] for neur in ANN1.L1]"
   ]
  },
  {
   "cell_type": "code",
   "execution_count": 583,
   "metadata": {
    "collapsed": false
   },
   "outputs": [
    {
     "data": {
      "text/plain": [
       "array([ 1.45767131,  0.88830163,  1.26147091, -0.87483239,  2.1508143 ,\n",
       "       -0.7651941 , -1.04680069,  2.67102559,  1.23315654,  2.72181449])"
      ]
     },
     "execution_count": 583,
     "metadata": {},
     "output_type": "execute_result"
    }
   ],
   "source": [
    "ANN1.Loo[0].Vw.v[:-1]"
   ]
  },
  {
   "cell_type": "code",
   "execution_count": 941,
   "metadata": {
    "collapsed": false
   },
   "outputs": [
    {
     "name": "stdout",
     "output_type": "stream",
     "text": [
      "Ann_iter: 1002\n"
     ]
    },
    {
     "data": {
      "image/png": "[encoded data removed]",
      "text/plain": [
       "<matplotlib.figure.Figure at 0x133c3be0>"
      ]
     },
     "metadata": {},
     "output_type": "display_data"
    }
   ],
   "source": [
    "c = 0\n",
    "for x in dxx:\n",
    "    ANN1.forward([x])\n",
    "    dyy[c] = ANN1.VLoo[0].v[0]\n",
    "    dyy_p[c] = ANN_classes.unpackval(ANN1.VL1)[0]*ANN1.Loo[0].Vw.v\n",
    "    dyy_p[c] = ANN_classes.unpackval(ANN1.VL1)[0]\n",
    "    c += 1\n",
    "print 'Ann_iter: {}'.format(ANN_iter)\n",
    "fig = plt.figure()\n",
    "ax1 = plt.subplot(111)\n",
    "# ax2 = ax1.twinx()\n",
    "ax1.plot(set_input, set_output, 'k.')\n",
    "ax1.plot(dxx, dyy, 'k-')\n",
    "[ax1.plot(dxx, dyy_p[:,i], 'g-') for i in xrange(len(dyy_p[0, :]))]\n",
    "ax1.grid(True)\n",
    "ax1.set_xlim(0,27)\n",
    "ax1.set_ylim(0,30)\n",
    "plt.show()"
   ]
  },
  {
   "cell_type": "code",
   "execution_count": 450,
   "metadata": {
    "collapsed": false
   },
   "outputs": [
    {
     "data": {
      "text/plain": [
       "array([[ 6.80767907,  1.        ]])"
      ]
     },
     "execution_count": 450,
     "metadata": {},
     "output_type": "execute_result"
    }
   ],
   "source": [
    "ANN1.forward([-5])"
   ]
  },
  {
   "cell_type": "code",
   "execution_count": 255,
   "metadata": {
    "collapsed": false
   },
   "outputs": [
    {
     "data": {
      "image/png": "[encoded data removed]",
      "text/plain": [
       "<matplotlib.figure.Figure at 0xf72f940>"
      ]
     },
     "metadata": {},
     "output_type": "display_data"
    }
   ],
   "source": [
    "w1 = -1\n",
    "w2 = -1\n",
    "xs = np.linspace(-10,10,100)\n",
    "ys = [max(0,max(0,x*w1)*w2) for x in xs]\n",
    "plt.figure()\n",
    "plt.plot(xs, ys)\n",
    "plt.grid()\n",
    "plt.show()"
   ]
  },
  {
   "cell_type": "code",
   "execution_count": null,
   "metadata": {
    "collapsed": true
   },
   "outputs": [],
   "source": []
  }
 ],
 "metadata": {
  "anaconda-cloud": {},
  "kernelspec": {
   "display_name": "Python [conda root]",
   "language": "python",
   "name": "conda-root-py"
  },
  "language_info": {
   "codemirror_mode": {
    "name": "ipython",
    "version": 2
   },
   "file_extension": ".py",
   "mimetype": "text/x-python",
   "name": "python",
   "nbconvert_exporter": "python",
   "pygments_lexer": "ipython2",
   "version": "2.7.12"
  }
 },
 "nbformat": 4,
 "nbformat_minor": 0
}
