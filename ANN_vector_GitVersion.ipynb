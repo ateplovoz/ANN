{
 "cells": [
  {
   "cell_type": "code",
   "execution_count": 1,
   "metadata": {
    "collapsed": true
   },
   "outputs": [],
   "source": [
    "import csv\n",
    "import numpy as np\n",
    "import matplotlib.pyplot as plt\n",
    "import ANN_classes"
   ]
  },
  {
   "cell_type": "code",
   "execution_count": 2,
   "metadata": {
    "collapsed": false
   },
   "outputs": [],
   "source": [
    "csvdata = []\n",
    "with open('data_m.csv', 'rb') as gtu_file:\n",
    "    reader = csv.reader(gtu_file)\n",
    "    for row in reader: \n",
    "        csvdata.append(row)\n",
    "data_m = np.array(csvdata, str)"
   ]
  },
  {
   "cell_type": "code",
   "execution_count": 3,
   "metadata": {
    "collapsed": false
   },
   "outputs": [],
   "source": [
    "data_Nfp = np.add(\n",
    "            np.multiply(\n",
    "                data_m[:, 13].astype(float),\n",
    "                data_m[:, 14].astype(float)),\n",
    "            data_m[:, 28].astype(float))"
   ]
  },
  {
   "cell_type": "code",
   "execution_count": 4,
   "metadata": {
    "collapsed": false
   },
   "outputs": [],
   "source": [
    "Qvpg = 8251*4.1868  # кДж/м3\n",
    "rhopg = 0.7078  # кг/м3\n",
    "Qmpg = Qvpg / rhopg # кДж/кг"
   ]
  },
  {
   "cell_type": "code",
   "execution_count": 5,
   "metadata": {
    "collapsed": false
   },
   "outputs": [],
   "source": [
    "Qmptr = []\n",
    "Qvptr = []\n",
    "Etam = np.array([])\n",
    "\n",
    "for i in np.arange(len(data_m)):\n",
    "    # массовый расход\n",
    "    Qmptr.append(Qmpg*float(data_m[i, 36])/3600)  # кДж*с\n",
    "    try:\n",
    "        Etam = np.append(Etam, float(data_Nfp[i])/(Qmptr[i]*1000))  # %\n",
    "    except ZeroDivisionError:\n",
    "        Etam = np.append(Etam, 0)"
   ]
  },
  {
   "cell_type": "code",
   "execution_count": 6,
   "metadata": {
    "collapsed": false
   },
   "outputs": [],
   "source": [
    "N_ladder = [np.arange(*i) for i in [(118, 174), (184,304), (310,372), (374,476), (486,574), (586,648),\n",
    "                                    (676,760), (770,844), (852,1058), (1130,1402), (1412,1486), (1498,1594),\n",
    "                                    (1700,1734),  # Вот здесь будем приклеивать ещё один кусочек\n",
    "                                    (1820,1892), (1896,1950), (2042,2132)]]\n",
    "N_ladder[12] = np.append(N_ladder[12], np.arange(1798,1818))  # Доклеиваем кусочек\n",
    "\n",
    "# Выборки по мощности и остальным параметрам (необработанные)\n",
    "data_Nfp_seq = [data_Nfp[i] for i in N_ladder]\n",
    "data_Etam = [Etam[i] for i in N_ladder]\n",
    "# data_TET = [data_m[i, 3].astype(float) for i in N_ladder]\n",
    "# data_Tug = [data_criomean[i] for i in N_ladder]\n",
    "# data_nob = [data_m[i, 1].astype(float) for i in N_ladder]\n",
    "# data_G1t = [data_m[i, 36].astype(float) for i in N_ladder]\n",
    "# data_Ptp = [data_m[i, 11].astype(float) for i in N_ladder]\n",
    "# data_Nsn_ld = [data_Nsn[i] for i in N_ladder]"
   ]
  },
  {
   "cell_type": "code",
   "execution_count": 7,
   "metadata": {
    "collapsed": false
   },
   "outputs": [],
   "source": [
    "import custom_classes\n",
    "reload(custom_classes)\n",
    "sWorker = custom_classes.StatWorker()"
   ]
  },
  {
   "cell_type": "code",
   "execution_count": 8,
   "metadata": {
    "collapsed": false
   },
   "outputs": [],
   "source": [
    "data_Etam_mask = [sWorker.clean3sigma(i) for i in data_Etam]\n",
    "data_Etam_Nfp_mask = [sWorker.clean3sigma(i[0][i[1]]) for i in zip(data_Nfp_seq, data_Etam_mask)]\n",
    "sWorker.set_alpha(0.05)\n",
    "data_Nfp_Etam_seq_masked_means = [i[0][i[1]][i[2]].mean() \n",
    "                             for i in zip(data_Nfp_seq, data_Etam_mask, data_Etam_Nfp_mask)]\n",
    "data_Nfp_Etam_seq_masked_means = np.array(data_Nfp_Etam_seq_masked_means)\n",
    "data_Etam_masked_means = [i[0][i[1]][i[2]].mean() \n",
    "                          for i in zip(data_Etam, data_Etam_mask, data_Etam_Nfp_mask)]\n",
    "data_Etam_masked_means = np.array(data_Etam_masked_means)\n",
    "data_Etam_conf = [sWorker.conf_level(i[0][i[1]][i[2]])['rng'] for i in zip(data_Etam, data_Etam_mask, data_Etam_Nfp_mask)]\n",
    "data_Nfp_Etam_conf = [sWorker.conf_level(i[0][i[1]][i[2]])['rng'] for i in zip(data_Nfp_seq, data_Etam_mask, data_Etam_Nfp_mask)]"
   ]
  },
  {
   "cell_type": "code",
   "execution_count": 9,
   "metadata": {
    "collapsed": false
   },
   "outputs": [
    {
     "data": {
      "image/png": "[encoded data removed]",
      "text/plain": [
       "<matplotlib.figure.Figure at 0x7c5d2b0>"
      ]
     },
     "metadata": {},
     "output_type": "display_data"
    }
   ],
   "source": [
    "fig = plt.figure()\n",
    "ax1 = plt.subplot(111)\n",
    "ax1.plot(data_Nfp_Etam_seq_masked_means/1000, data_Etam_masked_means-0.15, 'k.')\n",
    "ax1.grid(True)\n",
    "plt.show()"
   ]
  },
  {
   "cell_type": "code",
   "execution_count": 1170,
   "metadata": {
    "collapsed": true
   },
   "outputs": [],
   "source": [
    "set_input = data_Nfp_Etam_seq_masked_means/1000\n",
    "set_output = data_Etam_masked_means*100#-np.median(data_Etam_masked_means)"
   ]
  },
  {
   "cell_type": "code",
   "execution_count": 1403,
   "metadata": {
    "collapsed": true
   },
   "outputs": [],
   "source": [
    "set_input = np.arange(20)\n",
    "set_output = np.arange(0, 40, 2)"
   ]
  },
  {
   "cell_type": "code",
   "execution_count": 1792,
   "metadata": {
    "collapsed": true
   },
   "outputs": [],
   "source": [
    "ANN2 = ANN_classes.NNetwork(1,5,2)"
   ]
  },
  {
   "cell_type": "code",
   "execution_count": 1947,
   "metadata": {
    "collapsed": false,
    "scrolled": true
   },
   "outputs": [
    {
     "data": {
      "text/plain": [
       "<module 'ANN_classes' from 'ANN_classes.py'>"
      ]
     },
     "execution_count": 1947,
     "metadata": {},
     "output_type": "execute_result"
    }
   ],
   "source": [
    "reload(ANN_classes)"
   ]
  },
  {
   "cell_type": "code",
   "execution_count": 1948,
   "metadata": {
    "collapsed": false
   },
   "outputs": [],
   "source": [
    "ANN1 = ANN_classes.NNetwork(1, 2, 1)\n",
    "# ANN1.cfg_input(2)\n",
    "ANN1.cfg_mass()\n",
    "ANN1.nwgh_reset(1)\n",
    "ANN_iter=0"
   ]
  },
  {
   "cell_type": "code",
   "execution_count": 1949,
   "metadata": {
    "collapsed": false
   },
   "outputs": [
    {
     "data": {
      "text/plain": [
       "array([ 1.])"
      ]
     },
     "execution_count": 1949,
     "metadata": {},
     "output_type": "execute_result"
    }
   ],
   "source": [
    "ANN1.Lii[0].Vw.v"
   ]
  },
  {
   "cell_type": "code",
   "execution_count": 1950,
   "metadata": {
    "collapsed": false
   },
   "outputs": [
    {
     "data": {
      "text/plain": [
       "array([ 1.,  1.])"
      ]
     },
     "execution_count": 1950,
     "metadata": {},
     "output_type": "execute_result"
    }
   ],
   "source": [
    "ANN1.L1[0].Vw.v"
   ]
  },
  {
   "cell_type": "code",
   "execution_count": 1951,
   "metadata": {
    "collapsed": false
   },
   "outputs": [
    {
     "data": {
      "text/plain": [
       "array([ 1.,  1.])"
      ]
     },
     "execution_count": 1951,
     "metadata": {},
     "output_type": "execute_result"
    }
   ],
   "source": [
    "ANN1.L1[1].Vw.v"
   ]
  },
  {
   "cell_type": "code",
   "execution_count": 1952,
   "metadata": {
    "collapsed": false
   },
   "outputs": [
    {
     "data": {
      "text/plain": [
       "array([ 1.,  1.,  1.])"
      ]
     },
     "execution_count": 1952,
     "metadata": {},
     "output_type": "execute_result"
    }
   ],
   "source": [
    "ANN1.Loo[0].Vw.v"
   ]
  },
  {
   "cell_type": "code",
   "execution_count": 1953,
   "metadata": {
    "collapsed": true
   },
   "outputs": [],
   "source": [
    "ANN1.forward([10])"
   ]
  },
  {
   "cell_type": "code",
   "execution_count": 1969,
   "metadata": {
    "collapsed": false
   },
   "outputs": [
    {
     "data": {
      "text/plain": [
       "array([ 20.])"
      ]
     },
     "execution_count": 1969,
     "metadata": {},
     "output_type": "execute_result"
    }
   ],
   "source": [
    "ANN1.Lii[0].Vw.g"
   ]
  },
  {
   "cell_type": "code",
   "execution_count": 1955,
   "metadata": {
    "collapsed": false
   },
   "outputs": [
    {
     "data": {
      "text/plain": [
       "array([[ 23.,   1.]])"
      ]
     },
     "execution_count": 1955,
     "metadata": {},
     "output_type": "execute_result"
    }
   ],
   "source": [
    "ANN_classes.unpackval(ANN1.VLoo)"
   ]
  },
  {
   "cell_type": "code",
   "execution_count": 1956,
   "metadata": {
    "collapsed": false
   },
   "outputs": [],
   "source": [
    "ANN1.getnetgrad([50])"
   ]
  },
  {
   "cell_type": "code",
   "execution_count": 1973,
   "metadata": {
    "collapsed": false
   },
   "outputs": [
    {
     "data": {
      "text/plain": [
       "array([ 11.,  11.,   1.])"
      ]
     },
     "execution_count": 1973,
     "metadata": {},
     "output_type": "execute_result"
    }
   ],
   "source": [
    "ANN1.Loo[0].Vw.g"
   ]
  },
  {
   "cell_type": "code",
   "execution_count": 1964,
   "metadata": {
    "collapsed": false
   },
   "outputs": [
    {
     "data": {
      "text/plain": [
       "array([[ 1.,  1.],\n",
       "       [ 1.,  1.]])"
      ]
     },
     "execution_count": 1964,
     "metadata": {},
     "output_type": "execute_result"
    }
   ],
   "source": [
    "ANN_classes.unpackgrad(ANN1.VLii)"
   ]
  },
  {
   "cell_type": "code",
   "execution_count": 1959,
   "metadata": {
    "collapsed": false
   },
   "outputs": [
    {
     "data": {
      "text/plain": [
       "array([ 0.01,  0.01])"
      ]
     },
     "execution_count": 1959,
     "metadata": {},
     "output_type": "execute_result"
    }
   ],
   "source": [
    "ANN1.L1[0].Vw.v*ANN1.VL1[0].g[:-1]*0.01"
   ]
  },
  {
   "cell_type": "code",
   "execution_count": 1960,
   "metadata": {
    "collapsed": true
   },
   "outputs": [],
   "source": [
    "ANN1.backward()"
   ]
  },
  {
   "cell_type": "code",
   "execution_count": 1961,
   "metadata": {
    "collapsed": false
   },
   "outputs": [],
   "source": [
    "ANN1.ncommit()"
   ]
  },
  {
   "cell_type": "code",
   "execution_count": 1738,
   "metadata": {
    "collapsed": false
   },
   "outputs": [
    {
     "data": {
      "image/png": "[encoded data removed]",
      "text/plain": [
       "<matplotlib.figure.Figure at 0xa2cb9b0>"
      ]
     },
     "metadata": {},
     "output_type": "display_data"
    }
   ],
   "source": [
    "fig = plt.figure()\n",
    "ax1 = plt.subplot(111)\n",
    "ax2 = ax1.twinx()\n",
    "#ax1.plot(set_input, set_output, 'k.')\n",
    "ax1.plot(dxx, dyy, 'k-')\n",
    "[ax1.plot(dxx, dyy_p[:,i], 'g') for i in xrange(len(dyy_p[0, :]))]\n",
    "ax1.grid(True)\n",
    "plt.show()"
   ]
  },
  {
   "cell_type": "code",
   "execution_count": 1709,
   "metadata": {
    "collapsed": false,
    "scrolled": false
   },
   "outputs": [
    {
     "name": "stdout",
     "output_type": "stream",
     "text": [
      "[7]\n",
      "Ann_iter: 1\n"
     ]
    },
    {
     "data": {
      "image/png": "[encoded data removed]",
      "text/plain": [
       "<matplotlib.figure.Figure at 0xc163668>"
      ]
     },
     "metadata": {},
     "output_type": "display_data"
    }
   ],
   "source": [
    "for _ in xrange(1):\n",
    "    pick = np.random.randint(len(set_input))\n",
    "#     pick = 0\n",
    "    ANN1.forward([set_input[pick]])\n",
    "    print ANN1.Vii\n",
    "    ANN1.getnetgrad([set_output[pick]])\n",
    "    ANN1.backward()\n",
    "    ANN1.forward([set_input[pick]])\n",
    "    ANN1.VLoo[0].v[0]\n",
    "    #######\n",
    "    dxx = np.linspace(0, max(set_input), 50)\n",
    "    dyy = np.zeros([50])\n",
    "    dyy_p = np.zeros([50,3])\n",
    "    c = 0\n",
    "    for x in dxx:\n",
    "        ANN1.forward([x])\n",
    "        dyy[c] = ANN1.VLoo[0].v[0]\n",
    "        dyy_p[c] = ANN_classes.unpackval(ANN1.VL1)[0]*ANN1.Loo[0].Vw.v\n",
    "        c += 1\n",
    "    ANN_iter += 1\n",
    "print 'Ann_iter: {}'.format(ANN_iter)\n",
    "fig = plt.figure()\n",
    "ax1 = plt.subplot(111)\n",
    "ax2 = ax1.twinx()\n",
    "ax1.plot(set_input, set_output, 'k.')\n",
    "ax1.plot(dxx, dyy, 'k-')\n",
    "[ax1.plot(dxx, dyy_p[:,i], 'g') for i in xrange(len(dyy_p[0, :]))]\n",
    "ax1.grid(True)\n",
    "plt.show()"
   ]
  },
  {
   "cell_type": "code",
   "execution_count": 1546,
   "metadata": {
    "collapsed": false,
    "scrolled": false
   },
   "outputs": [
    {
     "name": "stdout",
     "output_type": "stream",
     "text": [
      "[3]\n",
      "Ann_iter: 18\n"
     ]
    },
    {
     "data": {
      "image/png": "[encoded data removed]",
      "text/plain": [
       "<matplotlib.figure.Figure at 0xb6d0be0>"
      ]
     },
     "metadata": {},
     "output_type": "display_data"
    }
   ],
   "source": [
    "for _ in xrange(1):\n",
    "    pick = np.random.randint(len(set_input))\n",
    "#     pick = 0\n",
    "    ANN1.forward([set_input[pick]])\n",
    "    print ANN1.Vii\n",
    "    ANN1.getnetgrad([set_output[pick]])\n",
    "    ANN1.backward()\n",
    "    ANN1.forward([set_input[pick]])\n",
    "    ANN1.VLoo[0].v[0]\n",
    "    #######\n",
    "    dxx = np.linspace(0, max(set_input), 50)\n",
    "    dyy = np.zeros([50])\n",
    "    dyy_p = np.zeros([50,3])\n",
    "    c = 0\n",
    "    for x in dxx:\n",
    "        ANN1.forward([x])\n",
    "        dyy[c] = ANN1.VLoo[0].v[0]\n",
    "        dyy_p[c] = ANN_classes.unpackval(ANN1.VL1)[0]*ANN1.Loo[0].Vw.v\n",
    "        c += 1\n",
    "    ANN_iter += 1\n",
    "print 'Ann_iter: {}'.format(ANN_iter)\n",
    "fig = plt.figure()\n",
    "ax1 = plt.subplot(111)\n",
    "ax2 = ax1.twinx()\n",
    "ax1.plot(set_input, set_output, 'k.')\n",
    "ax1.plot(dxx, dyy, 'k-')\n",
    "[ax1.plot(dxx, dyy_p[:,i], 'g') for i in xrange(len(dyy_p[0, :]))]\n",
    "ax1.grid(True)\n",
    "plt.show()"
   ]
  },
  {
   "cell_type": "code",
   "execution_count": null,
   "metadata": {
    "collapsed": true
   },
   "outputs": [],
   "source": []
  }
 ],
 "metadata": {
  "anaconda-cloud": {},
  "kernelspec": {
   "display_name": "Python [conda root]",
   "language": "python",
   "name": "conda-root-py"
  },
  "language_info": {
   "codemirror_mode": {
    "name": "ipython",
    "version": 2
   },
   "file_extension": ".py",
   "mimetype": "text/x-python",
   "name": "python",
   "nbconvert_exporter": "python",
   "pygments_lexer": "ipython2",
   "version": "2.7.12"
  }
 },
 "nbformat": 4,
 "nbformat_minor": 1
}
