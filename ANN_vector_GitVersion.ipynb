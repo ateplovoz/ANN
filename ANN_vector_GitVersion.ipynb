{
 "cells": [
  {
   "cell_type": "code",
   "execution_count": 1,
   "metadata": {
    "collapsed": true
   },
   "outputs": [],
   "source": [
    "import csv\n",
    "import numpy as np\n",
    "import matplotlib.pyplot as plt\n",
    "import ANN_classes"
   ]
  },
  {
   "cell_type": "code",
   "execution_count": 2,
   "metadata": {
    "collapsed": false
   },
   "outputs": [],
   "source": [
    "csvdata = []\n",
    "with open('data_m.csv', 'rb') as gtu_file:\n",
    "    reader = csv.reader(gtu_file)\n",
    "    for row in reader: \n",
    "        csvdata.append(row)\n",
    "data_m = np.array(csvdata, str)"
   ]
  },
  {
   "cell_type": "code",
   "execution_count": 3,
   "metadata": {
    "collapsed": false
   },
   "outputs": [],
   "source": [
    "data_Nfp = np.add(\n",
    "            np.multiply(\n",
    "                data_m[:, 13].astype(float),\n",
    "                data_m[:, 14].astype(float)),\n",
    "            data_m[:, 28].astype(float))"
   ]
  },
  {
   "cell_type": "code",
   "execution_count": 4,
   "metadata": {
    "collapsed": false
   },
   "outputs": [],
   "source": [
    "Qvpg = 8251*4.1868  # кДж/м3\n",
    "rhopg = 0.7078  # кг/м3\n",
    "Qmpg = Qvpg / rhopg # кДж/кг"
   ]
  },
  {
   "cell_type": "code",
   "execution_count": 5,
   "metadata": {
    "collapsed": false
   },
   "outputs": [],
   "source": [
    "Qmptr = []\n",
    "Qvptr = []\n",
    "Etam = np.array([])\n",
    "\n",
    "for i in np.arange(len(data_m)):\n",
    "    # массовый расход\n",
    "    Qmptr.append(Qmpg*float(data_m[i, 36])/3600)  # кДж*с\n",
    "    try:\n",
    "        Etam = np.append(Etam, float(data_Nfp[i])/(Qmptr[i]*1000))  # %\n",
    "    except ZeroDivisionError:\n",
    "        Etam = np.append(Etam, 0)"
   ]
  },
  {
   "cell_type": "code",
   "execution_count": 6,
   "metadata": {
    "collapsed": false
   },
   "outputs": [],
   "source": [
    "N_ladder = [np.arange(*i) for i in [(118, 174), (184,304), (310,372), (374,476), (486,574), (586,648),\n",
    "                                    (676,760), (770,844), (852,1058), (1130,1402), (1412,1486), (1498,1594),\n",
    "                                    (1700,1734),  # Вот здесь будем приклеивать ещё один кусочек\n",
    "                                    (1820,1892), (1896,1950), (2042,2132)]]\n",
    "N_ladder[12] = np.append(N_ladder[12], np.arange(1798,1818))  # Доклеиваем кусочек\n",
    "\n",
    "# Выборки по мощности и остальным параметрам (необработанные)\n",
    "data_Nfp_seq = [data_Nfp[i] for i in N_ladder]\n",
    "data_Etam = [Etam[i] for i in N_ladder]\n",
    "# data_TET = [data_m[i, 3].astype(float) for i in N_ladder]\n",
    "# data_Tug = [data_criomean[i] for i in N_ladder]\n",
    "# data_nob = [data_m[i, 1].astype(float) for i in N_ladder]\n",
    "# data_G1t = [data_m[i, 36].astype(float) for i in N_ladder]\n",
    "# data_Ptp = [data_m[i, 11].astype(float) for i in N_ladder]\n",
    "# data_Nsn_ld = [data_Nsn[i] for i in N_ladder]"
   ]
  },
  {
   "cell_type": "code",
   "execution_count": 7,
   "metadata": {
    "collapsed": false
   },
   "outputs": [],
   "source": [
    "import custom_classes\n",
    "reload(custom_classes)\n",
    "sWorker = custom_classes.StatWorker()"
   ]
  },
  {
   "cell_type": "code",
   "execution_count": 2112,
   "metadata": {
    "collapsed": false
   },
   "outputs": [],
   "source": [
    "data_Etam_mask = [sWorker.clean3sigma(i) for i in data_Etam]\n",
    "data_Etam_Nfp_mask = [sWorker.clean3sigma(i[0][i[1]]) for i in zip(data_Nfp_seq, data_Etam_mask)]\n",
    "sWorker.set_alpha(0.05)\n",
    "data_Nfp_Etam_seq_masked_means = [i[0][i[1]][i[2]].mean() \n",
    "                             for i in zip(data_Nfp_seq, data_Etam_mask, data_Etam_Nfp_mask)]\n",
    "data_Nfp_Etam_seq_masked_means = np.array(data_Nfp_Etam_seq_masked_means)\n",
    "data_Etam_masked_means = [i[0][i[1]][i[2]].mean() \n",
    "                          for i in zip(data_Etam, data_Etam_mask, data_Etam_Nfp_mask)]\n",
    "data_Etam_masked_means = np.array(data_Etam_masked_means)\n",
    "data_Etam_conf = [sWorker.conf_level(i[0][i[1]][i[2]])['rng'] for i in zip(data_Etam, data_Etam_mask, data_Etam_Nfp_mask)]\n",
    "data_Nfp_Etam_conf = [sWorker.conf_level(i[0][i[1]][i[2]])['rng'] for i in zip(data_Nfp_seq, data_Etam_mask, data_Etam_Nfp_mask)]"
   ]
  },
  {
   "cell_type": "code",
   "execution_count": 2116,
   "metadata": {
    "collapsed": false
   },
   "outputs": [
    {
     "data": {
      "image/png": "[encoded data removed]",
      "text/plain": [
       "<matplotlib.figure.Figure at 0xbdb0ba8>"
      ]
     },
     "metadata": {},
     "output_type": "display_data"
    }
   ],
   "source": [
    "fig = plt.figure()\n",
    "ax1 = plt.subplot(111)\n",
    "ax1.plot(data_Nfp_Etam_seq_masked_means/1000, data_Etam_masked_means-0.15, 'k.')\n",
    "ax1.grid(True)\n",
    "plt.show()"
   ]
  },
  {
   "cell_type": "code",
   "execution_count": 2117,
   "metadata": {
    "collapsed": true
   },
   "outputs": [],
   "source": [
    "set_input = data_Nfp_Etam_seq_masked_means/1000\n",
    "set_output = data_Etam_masked_means-0.15"
   ]
  },
  {
   "cell_type": "code",
   "execution_count": 2413,
   "metadata": {
    "collapsed": false,
    "scrolled": true
   },
   "outputs": [
    {
     "data": {
      "text/plain": [
       "<module 'ANN_classes' from 'ANN_classes.py'>"
      ]
     },
     "execution_count": 2413,
     "metadata": {},
     "output_type": "execute_result"
    }
   ],
   "source": [
    "reload(ANN_classes)"
   ]
  },
  {
   "cell_type": "code",
   "execution_count": 2416,
   "metadata": {
    "collapsed": false
   },
   "outputs": [],
   "source": [
    "ANN1 = ANN_classes.NNetwork(2, 5, 1)\n",
    "ANN1.cfg_input(2)\n",
    "ANN1.nwgh_randomize(1)"
   ]
  },
  {
   "cell_type": "code",
   "execution_count": 2417,
   "metadata": {
    "collapsed": false,
    "scrolled": true
   },
   "outputs": [
    {
     "ename": "TypeError",
     "evalue": "can't multiply sequence by non-int of type 'list'",
     "output_type": "error",
     "traceback": [
      "\u001b[0;31m---------------------------------------------------------------------------\u001b[0m",
      "\u001b[0;31mTypeError\u001b[0m                                 Traceback (most recent call last)",
      "\u001b[0;32m<ipython-input-2417-e3e2745d70d2>\u001b[0m in \u001b[0;36m<module>\u001b[0;34m()\u001b[0m\n\u001b[1;32m      2\u001b[0m \u001b[0mANN1\u001b[0m\u001b[1;33m.\u001b[0m\u001b[0mforward\u001b[0m\u001b[1;33m(\u001b[0m\u001b[1;33m[\u001b[0m\u001b[0mset_input\u001b[0m\u001b[1;33m[\u001b[0m\u001b[0mpick\u001b[0m\u001b[1;33m]\u001b[0m\u001b[1;33m,\u001b[0m \u001b[1;36m1\u001b[0m\u001b[1;33m]\u001b[0m\u001b[1;33m)\u001b[0m\u001b[1;33m\u001b[0m\u001b[0m\n\u001b[1;32m      3\u001b[0m \u001b[0mANN1\u001b[0m\u001b[1;33m.\u001b[0m\u001b[0mgetnetgrad\u001b[0m\u001b[1;33m(\u001b[0m\u001b[1;33m[\u001b[0m\u001b[0mset_output\u001b[0m\u001b[1;33m[\u001b[0m\u001b[0mpick\u001b[0m\u001b[1;33m]\u001b[0m\u001b[1;33m,\u001b[0m \u001b[0mset_output\u001b[0m\u001b[1;33m[\u001b[0m\u001b[0mpick\u001b[0m\u001b[1;33m]\u001b[0m\u001b[1;33m,\u001b[0m \u001b[0mset_output\u001b[0m\u001b[1;33m[\u001b[0m\u001b[0mpick\u001b[0m\u001b[1;33m]\u001b[0m\u001b[1;33m]\u001b[0m\u001b[1;33m)\u001b[0m\u001b[1;33m\u001b[0m\u001b[0m\n\u001b[0;32m----> 4\u001b[0;31m \u001b[0mANN1\u001b[0m\u001b[1;33m.\u001b[0m\u001b[0mbackward\u001b[0m\u001b[1;33m(\u001b[0m\u001b[1;33m)\u001b[0m\u001b[1;33m\u001b[0m\u001b[0m\n\u001b[0m\u001b[1;32m      5\u001b[0m \u001b[0mANN1\u001b[0m\u001b[1;33m.\u001b[0m\u001b[0mforward\u001b[0m\u001b[1;33m(\u001b[0m\u001b[1;33m[\u001b[0m\u001b[0mset_input\u001b[0m\u001b[1;33m[\u001b[0m\u001b[0mpick\u001b[0m\u001b[1;33m]\u001b[0m\u001b[1;33m,\u001b[0m \u001b[1;36m1\u001b[0m\u001b[1;33m]\u001b[0m\u001b[1;33m)\u001b[0m\u001b[1;33m\u001b[0m\u001b[0m\n\u001b[1;32m      6\u001b[0m \u001b[0mANN1\u001b[0m\u001b[1;33m.\u001b[0m\u001b[0mVLoo\u001b[0m\u001b[1;33m[\u001b[0m\u001b[1;36m0\u001b[0m\u001b[1;33m]\u001b[0m\u001b[1;33m.\u001b[0m\u001b[0mv\u001b[0m\u001b[1;33m[\u001b[0m\u001b[1;36m0\u001b[0m\u001b[1;33m]\u001b[0m\u001b[1;33m\u001b[0m\u001b[0m\n",
      "\u001b[0;32mC:\\Users\\vpribylov\\Jupyter\\ANN_vector\\ANN_classes.py\u001b[0m in \u001b[0;36mbackward\u001b[0;34m(self)\u001b[0m\n\u001b[1;32m    149\u001b[0m     \u001b[1;32mdef\u001b[0m \u001b[0mbackward\u001b[0m\u001b[1;33m(\u001b[0m\u001b[0mself\u001b[0m\u001b[1;33m)\u001b[0m\u001b[1;33m:\u001b[0m  \u001b[1;31m# Обратный прогон\u001b[0m\u001b[1;33m\u001b[0m\u001b[0m\n\u001b[1;32m    150\u001b[0m         \u001b[1;32mfor\u001b[0m \u001b[0mVL1\u001b[0m\u001b[1;33m,\u001b[0m \u001b[0mneur\u001b[0m \u001b[1;32min\u001b[0m \u001b[0mzip\u001b[0m\u001b[1;33m(\u001b[0m\u001b[0mself\u001b[0m\u001b[1;33m.\u001b[0m\u001b[0mVL1\u001b[0m\u001b[1;33m,\u001b[0m \u001b[0mself\u001b[0m\u001b[1;33m.\u001b[0m\u001b[0mLoo\u001b[0m\u001b[1;33m)\u001b[0m\u001b[1;33m:\u001b[0m\u001b[1;33m\u001b[0m\u001b[0m\n\u001b[0;32m--> 151\u001b[0;31m             \u001b[0mVL1\u001b[0m\u001b[1;33m.\u001b[0m\u001b[0mg\u001b[0m \u001b[1;33m=\u001b[0m \u001b[0mneur\u001b[0m\u001b[1;33m.\u001b[0m\u001b[0mbackward\u001b[0m\u001b[1;33m(\u001b[0m\u001b[1;33m)\u001b[0m\u001b[1;33m\u001b[0m\u001b[0m\n\u001b[0m\u001b[1;32m    152\u001b[0m         \u001b[1;32mfor\u001b[0m \u001b[0mneur\u001b[0m \u001b[1;32min\u001b[0m \u001b[0mself\u001b[0m\u001b[1;33m.\u001b[0m\u001b[0mL1\u001b[0m\u001b[1;33m:\u001b[0m\u001b[1;33m\u001b[0m\u001b[0m\n\u001b[1;32m    153\u001b[0m             \u001b[1;33m[\u001b[0m\u001b[0mneur\u001b[0m\u001b[1;33m.\u001b[0m\u001b[0mgetgrad\u001b[0m\u001b[1;33m(\u001b[0m\u001b[0msum\u001b[0m\u001b[1;33m(\u001b[0m\u001b[0mg\u001b[0m\u001b[1;33m)\u001b[0m\u001b[1;33m)\u001b[0m \u001b[1;32mfor\u001b[0m \u001b[0mg\u001b[0m \u001b[1;32min\u001b[0m \u001b[0munpackgrad\u001b[0m\u001b[1;33m(\u001b[0m\u001b[0mself\u001b[0m\u001b[1;33m.\u001b[0m\u001b[0mVL1\u001b[0m\u001b[1;33m)\u001b[0m\u001b[1;33m]\u001b[0m\u001b[1;33m\u001b[0m\u001b[0m\n",
      "\u001b[0;32mC:\\Users\\vpribylov\\Jupyter\\ANN_vector\\ANN_classes.py\u001b[0m in \u001b[0;36mbackward\u001b[0;34m(self)\u001b[0m\n\u001b[1;32m     73\u001b[0m         \u001b[0mself\u001b[0m\u001b[1;33m.\u001b[0m\u001b[0mViws\u001b[0m\u001b[1;33m.\u001b[0m\u001b[0mg\u001b[0m \u001b[1;33m=\u001b[0m \u001b[0mderactfunc\u001b[0m\u001b[1;33m(\u001b[0m\u001b[0mself\u001b[0m\u001b[1;33m.\u001b[0m\u001b[0mViws\u001b[0m\u001b[1;33m.\u001b[0m\u001b[0mv\u001b[0m\u001b[1;33m)\u001b[0m\u001b[0;31m\\\u001b[0m\u001b[1;33m\u001b[0m\u001b[0m\n\u001b[1;32m     74\u001b[0m                       \u001b[1;33m*\u001b[0m \u001b[0mself\u001b[0m\u001b[1;33m.\u001b[0m\u001b[0mVoo\u001b[0m\u001b[1;33m.\u001b[0m\u001b[0mg\u001b[0m\u001b[1;33m.\u001b[0m\u001b[0msum\u001b[0m\u001b[1;33m(\u001b[0m\u001b[1;33m)\u001b[0m\u001b[0;31m\\\u001b[0m\u001b[1;33m\u001b[0m\u001b[0m\n\u001b[0;32m---> 75\u001b[0;31m                       \u001b[1;33m*\u001b[0m \u001b[0mself\u001b[0m\u001b[1;33m.\u001b[0m\u001b[0mdeltaT\u001b[0m\u001b[0;31m\\\u001b[0m\u001b[1;33m\u001b[0m\u001b[0m\n\u001b[0m\u001b[1;32m     76\u001b[0m                       \u001b[1;31m# * self.dererrfunc(self.Vt, self.Viws.v)\u001b[0m\u001b[1;33m\u001b[0m\u001b[1;33m\u001b[0m\u001b[0m\n\u001b[1;32m     77\u001b[0m         \u001b[1;31m# Получение градиента весов\u001b[0m\u001b[1;33m\u001b[0m\u001b[1;33m\u001b[0m\u001b[0m\n",
      "\u001b[0;31mTypeError\u001b[0m: can't multiply sequence by non-int of type 'list'"
     ]
    }
   ],
   "source": [
    "pick = np.random.randint(len(set_input))\n",
    "ANN1.forward([set_input[pick], 1])\n",
    "ANN1.getnetgrad([set_output[pick], set_output[pick], set_output[pick]])\n",
    "ANN1.backward()\n",
    "ANN1.forward([set_input[pick], 1])\n",
    "ANN1.VLoo[0].v[0]\n",
    "#######\n",
    "dxx = np.linspace(min(set_input), max(set_input), 10)\n",
    "dyy = np.zeros([10])\n",
    "dyy_p = np.zeros([10,5])\n",
    "c = 0\n",
    "for x in dxx:\n",
    "    ANN1.forward([x, 1])\n",
    "    dyy[c] = ANN1.VLoo[0].v[0]\n",
    "    dyy_p[c] = ANN_classes.unpackval(ANN1.VL1)[0]*ANN1.Loo[0].Vw.v\n",
    "    c += 1\n",
    "\n",
    "fig = plt.figure()\n",
    "ax1 = plt.subplot(111)\n",
    "ax1.plot(set_input, set_output, 'k.')\n",
    "ax1.plot(dxx, dyy, 'b--')\n",
    "# [ax1.plot(dxx, dyy_p[:,i], 'g-') for i in xrange(len(dyy_p[0, :]))]\n",
    "ax1.grid(True)\n",
    "plt.show()"
   ]
  },
  {
   "cell_type": "code",
   "execution_count": 2399,
   "metadata": {
    "collapsed": false
   },
   "outputs": [
    {
     "data": {
      "text/plain": [
       "0.73575888234288467"
      ]
     },
     "execution_count": 2399,
     "metadata": {},
     "output_type": "execute_result"
    }
   ],
   "source": [
    "ANN1.Loo[0].dererrfunc(10,11)"
   ]
  },
  {
   "cell_type": "code",
   "execution_count": 2222,
   "metadata": {
    "collapsed": false
   },
   "outputs": [
    {
     "data": {
      "image/png": "[encoded data removed]",
      "text/plain": [
       "<matplotlib.figure.Figure at 0x9bad0b8>"
      ]
     },
     "metadata": {},
     "output_type": "display_data"
    }
   ],
   "source": [
    "fig = plt.figure()\n",
    "ax1 = plt.subplot(111)\n",
    "ax1.plot(set_input, set_output, 'k.')\n",
    "ax1.plot(dxx, dyy, 'b--')\n",
    "ax1.grid(True)\n",
    "plt.show()"
   ]
  },
  {
   "cell_type": "code",
   "execution_count": 2406,
   "metadata": {
    "collapsed": false
   },
   "outputs": [
    {
     "data": {
      "image/png": "[encoded data removed]",
      "text/plain": [
       "<matplotlib.figure.Figure at 0xb5c5908>"
      ]
     },
     "metadata": {},
     "output_type": "display_data"
    }
   ],
   "source": [
    "xx = np.linspace(0, 50, 100)\n",
    "yy = -2*1*np.square(np.exp(xx-10))*(xx-10)\n",
    "f = plt.figure()\n",
    "plt.plot(xx,yy)\n",
    "plt.show()"
   ]
  }
 ],
 "metadata": {
  "anaconda-cloud": {},
  "kernelspec": {
   "display_name": "Python [conda root]",
   "language": "python",
   "name": "conda-root-py"
  },
  "language_info": {
   "codemirror_mode": {
    "name": "ipython",
    "version": 2
   },
   "file_extension": ".py",
   "mimetype": "text/x-python",
   "name": "python",
   "nbconvert_exporter": "python",
   "pygments_lexer": "ipython2",
   "version": "2.7.12"
  }
 },
 "nbformat": 4,
 "nbformat_minor": 1
}
