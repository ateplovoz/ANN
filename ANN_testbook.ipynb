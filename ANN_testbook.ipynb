{
 "cells": [
  {
   "cell_type": "markdown",
   "metadata": {},
   "source": [
    "## Импорт данных"
   ]
  },
  {
   "cell_type": "code",
   "execution_count": 1,
   "metadata": {
    "collapsed": false
   },
   "outputs": [],
   "source": [
    "import csv\n",
    "import numpy as np\n",
    "import matplotlib.pyplot as plt\n",
    "import ANN_classes as ann\n",
    "import custom_classes as cc\n",
    "from importlib import reload\n",
    "import scipy.interpolate\n",
    "from matplotlib.ticker import FuncFormatter"
   ]
  },
  {
   "cell_type": "code",
   "execution_count": 512,
   "metadata": {
    "collapsed": false
   },
   "outputs": [
    {
     "data": {
      "text/plain": [
       "<module 'ANN_classes' from '/home/quantumfox/JupyterWorkfolder/Py3/ANN/ANN_classes.py'>"
      ]
     },
     "execution_count": 512,
     "metadata": {},
     "output_type": "execute_result"
    }
   ],
   "source": [
    "reload(ann)"
   ]
  },
  {
   "cell_type": "code",
   "execution_count": 513,
   "metadata": {
    "collapsed": false
   },
   "outputs": [
    {
     "name": "stdout",
     "output_type": "stream",
     "text": [
      "ANN vercheck OK\n"
     ]
    }
   ],
   "source": [
    "ann.vercheck('0.10.0')"
   ]
  },
  {
   "cell_type": "code",
   "execution_count": 108,
   "metadata": {
    "collapsed": false
   },
   "outputs": [],
   "source": [
    "csvdata = []\n",
    "with open('data_m.csv') as data_file:\n",
    "    reader = csv.reader(data_file)\n",
    "    for row in reader: \n",
    "        csvdata.append(row)\n",
    "csvdata = np.array(csvdata, dtype=float)"
   ]
  },
  {
   "cell_type": "markdown",
   "metadata": {
    "collapsed": true
   },
   "source": [
    "## Проверка на искусственном массиве данных"
   ]
  },
  {
   "cell_type": "code",
   "execution_count": 489,
   "metadata": {
    "collapsed": true
   },
   "outputs": [],
   "source": [
    "in_x = np.sort(np.random.random(100)*10)\n",
    "in_y = [item**2 for item in in_x]"
   ]
  },
  {
   "cell_type": "code",
   "execution_count": 490,
   "metadata": {
    "collapsed": false
   },
   "outputs": [
    {
     "data": {
      "image/png": "[encoded data removed]",
      "text/plain": [
       "<matplotlib.figure.Figure at 0x7fbcebde1ac8>"
      ]
     },
     "metadata": {},
     "output_type": "display_data"
    }
   ],
   "source": [
    "plt.figure()\n",
    "plt.plot(in_x, in_y)\n",
    "plt.grid()\n",
    "plt.show()"
   ]
  },
  {
   "cell_type": "code",
   "execution_count": 529,
   "metadata": {
    "collapsed": true
   },
   "outputs": [],
   "source": [
    "ann3 = ann.NNetwork(1,5,1)\n",
    "ann3.cfg_input(1)\n",
    "# ann3.cfg_mass()\n",
    "ann3.cfg_type()\n",
    "ann3.nwgh_randomize(0.6, 0.2)\n",
    "iterc = 0"
   ]
  },
  {
   "cell_type": "code",
   "execution_count": 531,
   "metadata": {
    "collapsed": false
   },
   "outputs": [
    {
     "data": {
      "image/png": "[encoded data removed]",
      "text/plain": [
       "<matplotlib.figure.Figure at 0x7fbcebf59550>"
      ]
     },
     "metadata": {},
     "output_type": "display_data"
    },
    {
     "name": "stdout",
     "output_type": "stream",
     "text": [
      "1\n"
     ]
    }
   ],
   "source": [
    "for _ in range(1):\n",
    "    iterc += 1\n",
    "    pick = np.random.randint(len(in_x))\n",
    "    ann3.forward([in_x[pick]])\n",
    "    ann3.getnetgrad([in_y[pick]])\n",
    "    ann3.backward()\n",
    "    ann3.ncommit()\n",
    "\n",
    "ann_in_y = [ann3.forward([in_x[item]])[0][0] for item in range(len(in_x))]\n",
    "\n",
    "plt.figure()\n",
    "plt.plot(in_x, ann_in_y)\n",
    "plt.plot(in_x, in_y, '.')\n",
    "plt.grid()\n",
    "plt.show()\n",
    "print(iterc)"
   ]
  },
  {
   "cell_type": "code",
   "execution_count": 538,
   "metadata": {
    "collapsed": false
   },
   "outputs": [
    {
     "data": {
      "text/plain": [
       "array([ 0.80534757,  0.49923112,  0.86371026,  0.52091703,  0.68762297,\n",
       "        0.61790524])"
      ]
     },
     "execution_count": 538,
     "metadata": {},
     "output_type": "execute_result"
    }
   ],
   "source": [
    "ann3.Loo[0].Vw.v"
   ]
  },
  {
   "cell_type": "code",
   "execution_count": 533,
   "metadata": {
    "collapsed": false
   },
   "outputs": [
    {
     "data": {
      "text/plain": [
       "-25.941579173580141"
      ]
     },
     "execution_count": 533,
     "metadata": {},
     "output_type": "execute_result"
    }
   ],
   "source": [
    "ann3.L1[0].Viws.v"
   ]
  },
  {
   "cell_type": "code",
   "execution_count": 549,
   "metadata": {
    "collapsed": false
   },
   "outputs": [
    {
     "data": {
      "text/plain": [
       "<ANN_classes.NSignal at 0x7fbcebd3b5c0>"
      ]
     },
     "execution_count": 549,
     "metadata": {},
     "output_type": "execute_result"
    }
   ],
   "source": [
    "ann3.Lii[0].Voo"
   ]
  },
  {
   "cell_type": "code",
   "execution_count": 1857,
   "metadata": {
    "collapsed": true
   },
   "outputs": [
    {
     "data": {
      "text/plain": [
       "[13.79013029779739,\n",
       " 13.82232773231304,\n",
       " 13.82546384052989,\n",
       " 13.83457950260253,\n",
       " 13.846922445825376,\n",
       " 13.870894799632778,\n",
       " 13.890829319117895,\n",
       " 13.893520472525619,\n",
       " 13.915454624573636,\n",
       " 13.960484876767262,\n",
       " 13.967242234817721,\n",
       " 14.015339098798229,\n",
       " 14.159057773168819,\n",
       " 14.178170925382284,\n",
       " 14.283306845300958,\n",
       " 14.293349681335618,\n",
       " 14.305269557555908,\n",
       " 14.365158523147159,\n",
       " 14.371819412174661,\n",
       " 14.452027981645285,\n",
       " 14.496228192527395,\n",
       " 14.513156176055572,\n",
       " 14.538316763645513,\n",
       " 14.604079244568586,\n",
       " 14.640299004800459,\n",
       " 14.667617755479101,\n",
       " 14.682484261037766,\n",
       " 14.737591156689728,\n",
       " 14.763569857628076,\n",
       " 14.77340881114459,\n",
       " 14.805547197611473,\n",
       " 14.81868858056583,\n",
       " 14.829278958829111,\n",
       " 14.843373891635709,\n",
       " 14.869920458863854,\n",
       " 14.911548127242385,\n",
       " 14.925891471949789,\n",
       " 14.932445593398596,\n",
       " 14.941301311350896,\n",
       " 14.947657186948719,\n",
       " 15.069333497837061,\n",
       " 15.080869906282715,\n",
       " 15.130954777944568,\n",
       " 15.146502375172398,\n",
       " 15.161251447344682,\n",
       " 15.185300483197395,\n",
       " 15.190679019861308,\n",
       " 15.199761209141009,\n",
       " 15.238603806704829,\n",
       " 15.242773989878026,\n",
       " 15.509068137904299,\n",
       " 15.536230755130001,\n",
       " 15.54279717759802,\n",
       " 15.570931729808271,\n",
       " 15.583065978216773,\n",
       " 15.612445911313582,\n",
       " 15.656912966353984,\n",
       " 15.709682431753874,\n",
       " 15.719085273295105,\n",
       " 15.755521863623084,\n",
       " 15.757760096769276,\n",
       " 15.782640083694217,\n",
       " 15.802906136354901,\n",
       " 15.879680839771749,\n",
       " 16.018721180154706,\n",
       " 16.032349214854278,\n",
       " 16.046234834141782,\n",
       " 16.097689452551602,\n",
       " 16.102453729391637,\n",
       " 16.14057575661711,\n",
       " 16.153129345071633,\n",
       " 16.271699135542825,\n",
       " 16.334344082741527,\n",
       " 16.374976437895047,\n",
       " 16.470293210680222,\n",
       " 16.496856001697793,\n",
       " 16.507164640608654,\n",
       " 16.507586457217482,\n",
       " 16.529504857611528,\n",
       " 16.554307174056394,\n",
       " 16.639824640082711,\n",
       " 16.653440024385464,\n",
       " 16.663486027510196,\n",
       " 16.67247546769455,\n",
       " 16.886803266435159,\n",
       " 16.904621806904647,\n",
       " 16.920550421425808,\n",
       " 16.954322137517185,\n",
       " 16.98427913975674,\n",
       " 16.987900654110224,\n",
       " 16.992410573978468,\n",
       " 17.042331512222695,\n",
       " 17.080297134379702,\n",
       " 17.089790715081556,\n",
       " 17.140477987257643,\n",
       " 17.152830862796044,\n",
       " 17.170178629054398,\n",
       " 17.171157455590993,\n",
       " 17.237461273921493,\n",
       " 17.251371593281775]"
      ]
     },
     "execution_count": 1857,
     "metadata": {},
     "output_type": "execute_result"
    }
   ],
   "source": [
    "[ann3.forward([in_x[item]])[0][0] for item in range(len(in_x))]"
   ]
  },
  {
   "cell_type": "code",
   "execution_count": null,
   "metadata": {
    "collapsed": true
   },
   "outputs": [],
   "source": []
  },
  {
   "cell_type": "code",
   "execution_count": null,
   "metadata": {
    "collapsed": true
   },
   "outputs": [],
   "source": []
  },
  {
   "cell_type": "code",
   "execution_count": null,
   "metadata": {
    "collapsed": true
   },
   "outputs": [],
   "source": []
  },
  {
   "cell_type": "code",
   "execution_count": null,
   "metadata": {
    "collapsed": true
   },
   "outputs": [],
   "source": []
  }
 ],
 "metadata": {
  "anaconda-cloud": {},
  "kernelspec": {
   "display_name": "Python 3",
   "language": "python",
   "name": "python3"
  },
  "language_info": {
   "codemirror_mode": {
    "name": "ipython",
    "version": 3
   },
   "file_extension": ".py",
   "mimetype": "text/x-python",
   "name": "python",
   "nbconvert_exporter": "python",
   "pygments_lexer": "ipython3",
   "version": "3.6.0"
  }
 },
 "nbformat": 4,
 "nbformat_minor": 0
}
