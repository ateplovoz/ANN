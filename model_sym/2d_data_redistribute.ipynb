{
 "cells": [
  {
   "cell_type": "code",
   "execution_count": 67,
   "metadata": {
    "collapsed": true
   },
   "outputs": [],
   "source": [
    "import csv\n",
    "from importlib import reload\n",
    "import numpy as np\n",
    "import matplotlib.pyplot as plt\n",
    "import pandas as pd"
   ]
  },
  {
   "cell_type": "code",
   "execution_count": 68,
   "metadata": {},
   "outputs": [],
   "source": [
    "import custom_classes as cc"
   ]
  },
  {
   "cell_type": "code",
   "execution_count": 7,
   "metadata": {},
   "outputs": [
    {
     "data": {
      "text/plain": [
       "<module 'custom_classes' from '/home/quantumfox/JupyterWorkfolder/Py3/tf_workbench/ANN/custom_classes.py'>"
      ]
     },
     "execution_count": 7,
     "metadata": {},
     "output_type": "execute_result"
    }
   ],
   "source": [
    "reload(cc)"
   ]
  },
  {
   "cell_type": "code",
   "execution_count": 64,
   "metadata": {},
   "outputs": [
    {
     "name": "stdout",
     "output_type": "stream",
     "text": [
      "/home/quantumfox/JupyterWorkfolder/Py3/tf_workbench/ANN\n"
     ]
    }
   ],
   "source": [
    "%cd .."
   ]
  },
  {
   "cell_type": "code",
   "execution_count": 66,
   "metadata": {},
   "outputs": [
    {
     "name": "stdout",
     "output_type": "stream",
     "text": [
      "/home/quantumfox/JupyterWorkfolder/Py3/tf_workbench/ANN/model_sym\n"
     ]
    }
   ],
   "source": [
    "%cd model_sym/"
   ]
  },
  {
   "cell_type": "code",
   "execution_count": 5,
   "metadata": {
    "collapsed": true
   },
   "outputs": [],
   "source": [
    "np.set_printoptions(precision=3, suppress=True, linewidth=75)"
   ]
  },
  {
   "cell_type": "code",
   "execution_count": 69,
   "metadata": {
    "collapsed": true
   },
   "outputs": [],
   "source": [
    "src_data = np.array([])\n",
    "with open('../data_ANN_full.csv') as datafile:\n",
    "    reader = csv.reader(datafile)\n",
    "    for row in reader:\n",
    "        src_data = np.append(src_data, row)\n",
    "\n",
    "src_data = src_data.astype(float)\n",
    "src_data = src_data.reshape(23, 20045)\n",
    "\n",
    "src_data_names = np.array([])\n",
    "with open('../data_ANN_full_names.csv') as datafile:\n",
    "    reader = csv.reader(datafile)\n",
    "    for row in reader:\n",
    "        src_data_names = np.append(src_data_names, row)\n",
    "\n",
    "data_dict = dict(zip(src_data_names, src_data))"
   ]
  },
  {
   "cell_type": "code",
   "execution_count": 72,
   "metadata": {
    "collapsed": true
   },
   "outputs": [],
   "source": [
    "data_2d = np.vstack((\n",
    "    data_dict['T0cp'][data_dict['MainGenPower']>0],\n",
    "    data_dict['B'][data_dict['MainGenPower']>0],\n",
    "    data_dict['GT1'][data_dict['MainGenPower']>0],\n",
    "    data_dict['MainGenPower'][data_dict['MainGenPower']>0],\n",
    "    data_dict['OutputPower'][data_dict['MainGenPower']>0],\n",
    "    data_dict['TurbineExitTemp'][data_dict['MainGenPower']>0],\n",
    "    data_dict['EngineSpeed'][data_dict['MainGenPower']>0],)).T"
   ]
  },
  {
   "cell_type": "code",
   "execution_count": 71,
   "metadata": {
    "collapsed": true
   },
   "outputs": [],
   "source": [
    "col = 3\n",
    "bins = 7\n",
    "count = 1000\n",
    "_, datawidth = data_2d.shape\n",
    "data_2d = np.random.permutation(data_2d)\n",
    "datamin, datamax = (data_2d[:, col].min(), data_2d[:, col].max())\n",
    "databins = [np.array([]),]*bins\n",
    "step = (datamax - datamin)/bins\n",
    "cur = 0\n",
    "threshold = []\n",
    "for _ in range(bins):\n",
    "    threshold.append(cur)\n",
    "    cur = cur + step\n",
    "threshold = threshold[::-1]\n",
    "for item, pos in zip(data_2d[:, col], range(data_2d[:, col].size)):\n",
    "    for dbin, thr in zip(range(bins), threshold):\n",
    "        if item > thr:\n",
    "            if len(databins[dbin]) >= count:\n",
    "                break\n",
    "            else:\n",
    "                databins[dbin] = np.append(databins[dbin], data_2d[pos])\n",
    "                binlen = databins[dbin].size\n",
    "                databins[dbin] = databins[dbin].reshape(int(binlen/datawidth), datawidth)\n",
    "                break\n",
    "\n",
    "res = np.array([])\n",
    "for dbin in databins:\n",
    "    res = np.append(res, dbin)\n",
    "reslen = res.size\n",
    "res = res.reshape(int(reslen/datawidth), datawidth)"
   ]
  },
  {
   "cell_type": "code",
   "execution_count": 12,
   "metadata": {},
   "outputs": [
    {
     "data": {
      "image/png": "[encoded data removed]",
      "text/plain": [
       "<matplotlib.figure.Figure at 0x7f7e1b969630>"
      ]
     },
     "metadata": {},
     "output_type": "display_data"
    }
   ],
   "source": [
    "plt.figure()\n",
    "plt.hist(res[:,3], threshold[::-1])\n",
    "plt.grid()\n",
    "plt.show()"
   ]
  },
  {
   "cell_type": "code",
   "execution_count": 180,
   "metadata": {},
   "outputs": [],
   "source": [
    "sw = cc.StatWorker(data_2d)\n",
    "\n",
    "sw.uniformize_2d(7,3)\n",
    "\n",
    "learnset_uniform = sw.get_data()"
   ]
  },
  {
   "cell_type": "code",
   "execution_count": 16,
   "metadata": {},
   "outputs": [
    {
     "data": {
      "image/png": "[encoded data removed]",
      "text/plain": [
       "<matplotlib.figure.Figure at 0x7f7e1b912160>"
      ]
     },
     "metadata": {},
     "output_type": "display_data"
    }
   ],
   "source": [
    "plt.figure()\n",
    "plt.hist(sw.get_data()[:,3], threshold[::-1])\n",
    "plt.grid()\n",
    "plt.show()"
   ]
  },
  {
   "cell_type": "code",
   "execution_count": 185,
   "metadata": {},
   "outputs": [],
   "source": [
    "threshold = 1.\n",
    "for index in range(len(learnset_uniform[:,0])):\n",
    "    if learnset_uniform[index, 2] <= threshold:\n",
    "        learnset_uniform = np.delete(learnset_uniform, index,0)\n",
    "    if index >= len(learnset_uniform[:,0]) - 1:\n",
    "        break"
   ]
  },
  {
   "cell_type": "code",
   "execution_count": 186,
   "metadata": {},
   "outputs": [
    {
     "data": {
      "image/png": "[encoded data removed]",
      "text/plain": [
       "<matplotlib.figure.Figure at 0x7f7e1b77b208>"
      ]
     },
     "metadata": {},
     "output_type": "display_data"
    }
   ],
   "source": [
    "plt.figure()\n",
    "plt.plot(learnset_uniform[:,2], learnset_uniform[:,6], '.')\n",
    "plt.grid()\n",
    "plt.show()"
   ]
  },
  {
   "cell_type": "code",
   "execution_count": 177,
   "metadata": {},
   "outputs": [],
   "source": [
    "with open('data_m_uniform.csv', 'w') as datafile:\n",
    "    writer = csv.writer(datafile)\n",
    "    writer.writerows(learnset_uniform)"
   ]
  }
 ],
 "metadata": {
  "kernelspec": {
   "display_name": "Python 3",
   "language": "python",
   "name": "python3"
  },
  "language_info": {
   "codemirror_mode": {
    "name": "ipython",
    "version": 3
   },
   "file_extension": ".py",
   "mimetype": "text/x-python",
   "name": "python",
   "nbconvert_exporter": "python",
   "pygments_lexer": "ipython3",
   "version": "3.6.1"
  }
 },
 "nbformat": 4,
 "nbformat_minor": 2
}
