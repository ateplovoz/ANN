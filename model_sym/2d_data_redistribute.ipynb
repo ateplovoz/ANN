{
 "cells": [
  {
   "cell_type": "code",
   "execution_count": 130,
   "metadata": {
    "collapsed": true
   },
   "outputs": [],
   "source": [
    "import csv\n",
    "from importlib import reload\n",
    "import numpy as np\n",
    "import matplotlib.pyplot as plt\n",
    "import pandas as pd"
   ]
  },
  {
   "cell_type": "code",
   "execution_count": 128,
   "metadata": {
    "collapsed": true
   },
   "outputs": [],
   "source": [
    "import custom_classes as cc"
   ]
  },
  {
   "cell_type": "code",
   "execution_count": 138,
   "metadata": {},
   "outputs": [
    {
     "data": {
      "text/plain": [
       "<module 'custom_classes' from '/home/quantumfox/JupyterWorkfolder/Py3/tf_workbench/ANN/custom_classes.py'>"
      ]
     },
     "execution_count": 138,
     "metadata": {},
     "output_type": "execute_result"
    }
   ],
   "source": [
    "reload(cc)"
   ]
  },
  {
   "cell_type": "code",
   "execution_count": 127,
   "metadata": {},
   "outputs": [
    {
     "name": "stdout",
     "output_type": "stream",
     "text": [
      "/home/quantumfox/JupyterWorkfolder/Py3/tf_workbench/ANN\n"
     ]
    }
   ],
   "source": [
    "%cd .."
   ]
  },
  {
   "cell_type": "code",
   "execution_count": 65,
   "metadata": {
    "collapsed": true
   },
   "outputs": [],
   "source": [
    "np.set_printoptions(precision=3, suppress=True, linewidth=75)"
   ]
  },
  {
   "cell_type": "code",
   "execution_count": 2,
   "metadata": {
    "collapsed": true
   },
   "outputs": [],
   "source": [
    "src_data = np.array([])\n",
    "with open('../data_ANN_full.csv') as datafile:\n",
    "    reader = csv.reader(datafile)\n",
    "    for row in reader:\n",
    "        src_data = np.append(src_data, row)\n",
    "\n",
    "src_data = src_data.astype(float)\n",
    "src_data = src_data.reshape(23, 20045)\n",
    "\n",
    "src_data_names = np.array([])\n",
    "with open('../data_ANN_full_names.csv') as datafile:\n",
    "    reader = csv.reader(datafile)\n",
    "    for row in reader:\n",
    "        src_data_names = np.append(src_data_names, row)\n",
    "\n",
    "data_dict = dict(zip(src_data_names, src_data))"
   ]
  },
  {
   "cell_type": "code",
   "execution_count": 3,
   "metadata": {
    "collapsed": true
   },
   "outputs": [],
   "source": [
    "data_2d = np.vstack((\n",
    "    data_dict['T0cp'][data_dict['MainGenPower']>0],\n",
    "    data_dict['B'][data_dict['MainGenPower']>0],\n",
    "    data_dict['GT1'][data_dict['MainGenPower']>0],\n",
    "    data_dict['MainGenPower'][data_dict['MainGenPower']>0],\n",
    "    data_dict['OutputPower'][data_dict['MainGenPower']>0],\n",
    "    data_dict['TurbineExitTemp'][data_dict['MainGenPower']>0],\n",
    "    data_dict['EngineSpeed'][data_dict['MainGenPower']>0],)).T"
   ]
  },
  {
   "cell_type": "code",
   "execution_count": 177,
   "metadata": {
    "collapsed": true
   },
   "outputs": [],
   "source": [
    "col = 3\n",
    "bins = 7\n",
    "count = 1000\n",
    "_, datawidth = data_2d.shape\n",
    "data_2d = np.random.permutation(data_2d)\n",
    "datamin, datamax = (data_2d[:, col].min(), data_2d[:, col].max())\n",
    "databins = [np.array([]),]*bins\n",
    "step = (datamax - datamin)/bins\n",
    "cur = 0\n",
    "threshold = []\n",
    "for _ in range(bins):\n",
    "    threshold.append(cur)\n",
    "    cur = cur + step\n",
    "threshold = threshold[::-1]\n",
    "for item, pos in zip(data_2d[:, col], range(data_2d[:, col].size)):\n",
    "    for dbin, thr in zip(range(bins), threshold):\n",
    "        if item > thr:\n",
    "            if len(databins[dbin]) >= count:\n",
    "                break\n",
    "            else:\n",
    "                databins[dbin] = np.append(databins[dbin], data_2d[pos])\n",
    "                binlen = databins[dbin].size\n",
    "                databins[dbin] = databins[dbin].reshape(int(binlen/datawidth), datawidth)\n",
    "                break\n",
    "\n",
    "res = np.array([])\n",
    "for dbin in databins:\n",
    "    res = np.append(res, dbin)\n",
    "reslen = res.size\n",
    "res = res.reshape(int(reslen/datawidth), datawidth)"
   ]
  },
  {
   "cell_type": "code",
   "execution_count": 178,
   "metadata": {},
   "outputs": [
    {
     "data": {
      "image/png": "[encoded data removed]",
      "text/plain": [
       "<matplotlib.figure.Figure at 0x7f28ed2a2780>"
      ]
     },
     "metadata": {},
     "output_type": "display_data"
    }
   ],
   "source": [
    "plt.figure()\n",
    "plt.hist(res[:,3], threshold[::-1])\n",
    "plt.grid()\n",
    "plt.show()"
   ]
  },
  {
   "cell_type": "code",
   "execution_count": 179,
   "metadata": {
    "collapsed": true
   },
   "outputs": [],
   "source": [
    "sw = cc.StatWorker(data_2d)"
   ]
  },
  {
   "cell_type": "code",
   "execution_count": 180,
   "metadata": {
    "collapsed": true
   },
   "outputs": [],
   "source": [
    "sw.uniformize_2d(7,3)"
   ]
  },
  {
   "cell_type": "code",
   "execution_count": 181,
   "metadata": {},
   "outputs": [
    {
     "data": {
      "text/plain": [
       "(700, 7)"
      ]
     },
     "execution_count": 181,
     "metadata": {},
     "output_type": "execute_result"
    }
   ],
   "source": [
    "sw.get_data().shape"
   ]
  },
  {
   "cell_type": "code",
   "execution_count": 182,
   "metadata": {},
   "outputs": [
    {
     "data": {
      "image/png": "[encoded data removed]",
      "text/plain": [
       "<matplotlib.figure.Figure at 0x7f28ed2a2d68>"
      ]
     },
     "metadata": {},
     "output_type": "display_data"
    }
   ],
   "source": [
    "plt.figure()\n",
    "plt.hist(sw.get_data()[:,3], threshold[::-1])\n",
    "plt.grid()\n",
    "plt.show()"
   ]
  },
  {
   "cell_type": "code",
   "execution_count": 183,
   "metadata": {
    "collapsed": true
   },
   "outputs": [],
   "source": [
    "learnset_uniform = sw.get_data()"
   ]
  },
  {
   "cell_type": "code",
   "execution_count": 184,
   "metadata": {},
   "outputs": [
    {
     "data": {
      "text/plain": [
       "array([[    13.6  ,     99.8  ,      8.3  , ...,  27246.   ,    593.1  ,\n",
       "         94308.   ],\n",
       "       [    13.8  ,     99.8  ,      9.   , ...,  32569.   ,    593.7  ,\n",
       "         96320.   ],\n",
       "       [    15.8  ,     99.   ,      8.7  , ...,  29641.   ,    593.2  ,\n",
       "         96320.   ],\n",
       "       ..., \n",
       "       [    14.633,     99.6  ,      0.   , ...,    566.   ,    625.6  ,\n",
       "         45262.   ],\n",
       "       [    15.5  ,     98.9  ,      0.   , ...,   -264.   ,    462.3  ,\n",
       "         45134.   ],\n",
       "       [    14.467,     99.6  ,      0.   , ...,   -363.   ,    435.1  ,\n",
       "         45078.   ]])"
      ]
     },
     "execution_count": 184,
     "metadata": {},
     "output_type": "execute_result"
    }
   ],
   "source": [
    "learnset_uniform"
   ]
  },
  {
   "cell_type": "code",
   "execution_count": 185,
   "metadata": {
    "collapsed": true
   },
   "outputs": [],
   "source": [
    "with open('data_m_uniform.csv', 'w') as datafile:\n",
    "    writer = csv.writer(datafile)\n",
    "    writer.writerows(learnset_uniform)"
   ]
  }
 ],
 "metadata": {
  "kernelspec": {
   "display_name": "Python 3",
   "language": "python",
   "name": "python3"
  },
  "language_info": {
   "codemirror_mode": {
    "name": "ipython",
    "version": 3
   },
   "file_extension": ".py",
   "mimetype": "text/x-python",
   "name": "python",
   "nbconvert_exporter": "python",
   "pygments_lexer": "ipython3",
   "version": "3.6.1"
  }
 },
 "nbformat": 4,
 "nbformat_minor": 2
}
