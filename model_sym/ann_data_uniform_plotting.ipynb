{
 "cells": [
  {
   "cell_type": "code",
   "execution_count": 1,
   "metadata": {
    "collapsed": true,
    "scrolled": true
   },
   "outputs": [],
   "source": [
    "import csv\n",
    "from importlib import reload\n",
    "import numpy as np\n",
    "import matplotlib.pyplot as plt\n",
    "import tensorflow as tf\n",
    "from IPython.display import clear_output"
   ]
  },
  {
   "cell_type": "code",
   "execution_count": null,
   "metadata": {
    "collapsed": true,
    "scrolled": true
   },
   "outputs": [],
   "source": [
    "reload(ann)"
   ]
  },
  {
   "cell_type": "code",
   "execution_count": 2,
   "metadata": {
    "collapsed": true
   },
   "outputs": [],
   "source": [
    "%run model_uniform.py\n",
    "mln_sym.init_sess()\n",
    "itr = 0"
   ]
  },
  {
   "cell_type": "code",
   "execution_count": 15,
   "metadata": {
    "collapsed": true
   },
   "outputs": [],
   "source": [
    "tf.reset_default_graph()\n",
    "reload(ann)\n",
    "%run model_uniform.py\n",
    "mln_sym.init_sess()\n",
    "itr = 0"
   ]
  },
  {
   "cell_type": "code",
   "execution_count": 16,
   "metadata": {
    "collapsed": true
   },
   "outputs": [],
   "source": [
    "mln_sym.tune_weight(0, 4., mln_sym.sess)"
   ]
  },
  {
   "cell_type": "markdown",
   "metadata": {},
   "source": [
    "## collecting pictures"
   ]
  },
  {
   "cell_type": "code",
   "execution_count": 17,
   "metadata": {
    "collapsed": true
   },
   "outputs": [],
   "source": [
    "prefix = 'ann10-tuned'\n",
    "\n",
    "# %rm -rf pic*\n",
    "%mkdir pic-$prefix\n",
    "%mkdir pic-$prefix/gt-mgp\n",
    "%mkdir pic-$prefix/gt-op\n",
    "%mkdir pic-$prefix/gt-tet\n",
    "%mkdir pic-$prefix/gt-es"
   ]
  },
  {
   "cell_type": "code",
   "execution_count": 18,
   "metadata": {},
   "outputs": [],
   "source": [
    "def get_pic():\n",
    "    ann_data_learnset = mln_sym.calc(learnset, DSOCKET)\n",
    "    data_ann_learnset = np.array([learnset[item][1] for item in range(7)])\n",
    "    data_ann_learnset = data_ann_learnset.T\n",
    "\n",
    "    plt.figure()\n",
    "    plt.plot(data_ann_learnset[:, 2], ann_data_learnset[:, 0], '.')\n",
    "    plt.plot(data_ann_learnset[:, 2], data_ann_learnset[:, 3], '.')\n",
    "    plt.title('gt-mgp, itr={1}'.format(prefix, itr))\n",
    "    plt.xlabel('gt, kg/hr')\n",
    "    plt.ylabel('mgp, kW')\n",
    "    plt.xlim(0,10)\n",
    "    plt.ylim(0,40)\n",
    "    plt.grid()\n",
    "    plt.savefig('pic-{0}/gt-mgp{0}-gt-mgp-itr-{1}.png'.format(prefix, itr))\n",
    "    plt.close()\n",
    "\n",
    "    plt.figure()\n",
    "    plt.plot(data_ann_learnset[:, 2], ann_data_learnset[:, 1], '.')\n",
    "    plt.plot(data_ann_learnset[:, 2], data_ann_learnset[:, 4], '.')\n",
    "    plt.title('gt-op, itr={1}'.format(prefix, itr))\n",
    "    plt.xlabel('gt, kg/hr')\n",
    "    plt.ylabel('op, kW')\n",
    "    plt.xlim(0,10)\n",
    "    plt.ylim(0,35)\n",
    "    plt.grid()\n",
    "    plt.savefig('pic-{0}/gt-op/{0}-gt-op-itr-{1}.png'.format(prefix, itr))\n",
    "    plt.close()\n",
    "\n",
    "    plt.figure()\n",
    "    plt.plot(data_ann_learnset[:, 2], ann_data_learnset[:, 2], '.')\n",
    "    plt.plot(data_ann_learnset[:, 2], data_ann_learnset[:, 5], '.')\n",
    "    plt.title('gt-tet, itr={1}'.format(prefix, itr))\n",
    "    plt.xlabel('gt, kg/hr')\n",
    "    plt.ylabel('tet, degC')\n",
    "    plt.xlim(0,10)\n",
    "    plt.ylim(550, 725)\n",
    "    plt.grid()\n",
    "    plt.savefig('pic-{0}/gt-tet/{0}-gt-tet-itr-{1}.png'.format(prefix, itr))\n",
    "    plt.close()\n",
    "\n",
    "    plt.figure()\n",
    "    plt.plot(data_ann_learnset[:, 2], ann_data_learnset[:, 3], '.')\n",
    "    plt.plot(data_ann_learnset[:, 2], data_ann_learnset[:, 6], '.')\n",
    "    plt.title('gt-es, itr={1}'.format(prefix, itr))\n",
    "    plt.xlabel('gt, kg/hr')\n",
    "    plt.ylabel('es, krpm/min')\n",
    "    plt.xlim(0,10)\n",
    "    plt.ylim(40,100)\n",
    "    plt.grid()\n",
    "    plt.savefig('pic-{0}/gt-es/{0}-gt-es-itr-{1}.png'.format(prefix, itr))\n",
    "    plt.close()"
   ]
  },
  {
   "cell_type": "code",
   "execution_count": null,
   "metadata": {},
   "outputs": [
    {
     "name": "stdout",
     "output_type": "stream",
     "text": [
      "220000 0.22\n",
      "230000 0.23\n",
      "240000 0.24\n",
      "250000 0.25\n",
      "260000 0.26\n",
      "270000 0.27\n",
      "280000 0.28\n",
      "290000 0.29\n",
      "300000 0.3\n",
      "310000 0.31\n",
      "320000 0.32\n"
     ]
    }
   ],
   "source": [
    "ccls = 0\n",
    "steps = 100\n",
    "chunk = 10000\n",
    "start = itr\n",
    "target = itr + steps*chunk\n",
    "for itrl in range(steps):\n",
    "    get_pic()\n",
    "    mln_sym.train(chunk, DSOCKET)\n",
    "    itr += chunk\n",
    "    ccls += 1\n",
    "    if ccls > 10:\n",
    "        clear_output()\n",
    "        ccls = 0\n",
    "    print(itr, (itr - start)/(steps*chunk))\n",
    "\n",
    "get_pic()"
   ]
  }
 ],
 "metadata": {
  "kernelspec": {
   "display_name": "Python 3",
   "language": "python",
   "name": "python3"
  },
  "language_info": {
   "codemirror_mode": {
    "name": "ipython",
    "version": 3
   },
   "file_extension": ".py",
   "mimetype": "text/x-python",
   "name": "python",
   "nbconvert_exporter": "python",
   "pygments_lexer": "ipython3",
   "version": "3.6.1"
  }
 },
 "nbformat": 4,
 "nbformat_minor": 2
}
