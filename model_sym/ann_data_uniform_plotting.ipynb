{
 "cells": [
  {
   "cell_type": "code",
   "execution_count": 1,
   "metadata": {
    "collapsed": true,
    "scrolled": true
   },
   "outputs": [],
   "source": [
    "import csv\n",
    "from importlib import reload\n",
    "import numpy as np\n",
    "import matplotlib.pyplot as plt\n",
    "import tensorflow as tf\n",
    "from IPython.display import clear_output"
   ]
  },
  {
   "cell_type": "code",
   "execution_count": null,
   "metadata": {
    "collapsed": true,
    "scrolled": true
   },
   "outputs": [],
   "source": [
    "reload(ann)"
   ]
  },
  {
   "cell_type": "code",
   "execution_count": null,
   "metadata": {
    "collapsed": true
   },
   "outputs": [],
   "source": [
    "[mln_sym.sess.run(item.oo, feed_dict=DSOCKET.get_feeder()) for item in mln_sym.LL[0].VN]"
   ]
  },
  {
   "cell_type": "code",
   "execution_count": 2,
   "metadata": {
    "collapsed": true
   },
   "outputs": [],
   "source": [
    "%run model_uniform.py\n",
    "mln_sym.init_sess()\n",
    "itr = 0"
   ]
  },
  {
   "cell_type": "code",
   "execution_count": 24,
   "metadata": {
    "collapsed": true
   },
   "outputs": [],
   "source": [
    "tf.reset_default_graph()\n",
    "reload(ann)\n",
    "%run model_uniform.py\n",
    "mln_sym.init_sess()\n",
    "itr = 0"
   ]
  },
  {
   "cell_type": "code",
   "execution_count": null,
   "metadata": {
    "collapsed": true
   },
   "outputs": [],
   "source": [
    "mln_sym.tune_weight(0, 4., mln_sym.sess)"
   ]
  },
  {
   "cell_type": "code",
   "execution_count": null,
   "metadata": {
    "collapsed": true
   },
   "outputs": [],
   "source": [
    "[mln_sym.sess.run(item, feed_dict=DSOCKET.get_feeder()) for item in mln_sym.LL[0].VN[0].ww]"
   ]
  },
  {
   "cell_type": "code",
   "execution_count": null,
   "metadata": {
    "collapsed": true
   },
   "outputs": [],
   "source": [
    "ccls = 0\n",
    "steps = 1000\n",
    "chunk = 100\n",
    "start = itr\n",
    "target = itr + steps*chunk\n",
    "for itrl in range(steps):\n",
    "    mln_sym.train(chunk, DSOCKET)\n",
    "    itr += chunk\n",
    "    ccls += 1\n",
    "    if ccls > 10:\n",
    "        clear_output()\n",
    "        ccls = 0\n",
    "    print(itr, (itr - start)/(steps*chunk))"
   ]
  },
  {
   "cell_type": "code",
   "execution_count": null,
   "metadata": {
    "collapsed": true
   },
   "outputs": [],
   "source": [
    "old_ann_data_learnset = ann_data_learnset"
   ]
  },
  {
   "cell_type": "code",
   "execution_count": 5,
   "metadata": {
    "collapsed": true
   },
   "outputs": [],
   "source": [
    "ann_data_learnset = mln_sym.calc(learnset, DSOCKET)\n",
    "data_ann_learnset = np.array([learnset[item][1] for item in range(7)])\n",
    "data_ann_learnset = data_ann_learnset.T"
   ]
  },
  {
   "cell_type": "markdown",
   "metadata": {},
   "source": [
    "mgp"
   ]
  },
  {
   "cell_type": "code",
   "execution_count": 8,
   "metadata": {
    "scrolled": true
   },
   "outputs": [
    {
     "data": {
      "image/png": "[encoded data removed]",
      "text/plain": [
       "<matplotlib.figure.Figure at 0x7f1d66f90c18>"
      ]
     },
     "metadata": {},
     "output_type": "display_data"
    }
   ],
   "source": [
    "plt.figure()\n",
    "plt.plot(data_ann_learnset[:, 2], ann_data_learnset[:, 0], '.')\n",
    "plt.plot(data_ann_learnset[:, 2], data_ann_learnset[:, 3], '.')\n",
    "plt.xlim(0,10)\n",
    "plt.ylim(0,40)\n",
    "plt.grid()\n",
    "plt.show()"
   ]
  },
  {
   "cell_type": "code",
   "execution_count": 11,
   "metadata": {
    "scrolled": true
   },
   "outputs": [
    {
     "ename": "NameError",
     "evalue": "name 'old_ann_data_learnset' is not defined",
     "output_type": "error",
     "traceback": [
      "\u001b[0;31m---------------------------------------------------------------------------\u001b[0m",
      "\u001b[0;31mNameError\u001b[0m                                 Traceback (most recent call last)",
      "\u001b[0;32m<ipython-input-11-c4c0a350c396>\u001b[0m in \u001b[0;36m<module>\u001b[0;34m()\u001b[0m\n\u001b[1;32m      1\u001b[0m \u001b[0mplt\u001b[0m\u001b[0;34m.\u001b[0m\u001b[0mfigure\u001b[0m\u001b[0;34m(\u001b[0m\u001b[0;34m)\u001b[0m\u001b[0;34m\u001b[0m\u001b[0m\n\u001b[1;32m      2\u001b[0m \u001b[0mplt\u001b[0m\u001b[0;34m.\u001b[0m\u001b[0mplot\u001b[0m\u001b[0;34m(\u001b[0m\u001b[0mdata_ann_learnset\u001b[0m\u001b[0;34m[\u001b[0m\u001b[0;34m:\u001b[0m\u001b[0;34m,\u001b[0m \u001b[0;36m2\u001b[0m\u001b[0;34m]\u001b[0m\u001b[0;34m,\u001b[0m \u001b[0mann_data_learnset\u001b[0m\u001b[0;34m[\u001b[0m\u001b[0;34m:\u001b[0m\u001b[0;34m,\u001b[0m \u001b[0;36m0\u001b[0m\u001b[0;34m]\u001b[0m\u001b[0;34m,\u001b[0m \u001b[0;34m'.'\u001b[0m\u001b[0;34m)\u001b[0m\u001b[0;34m\u001b[0m\u001b[0m\n\u001b[0;32m----> 3\u001b[0;31m \u001b[0mplt\u001b[0m\u001b[0;34m.\u001b[0m\u001b[0mplot\u001b[0m\u001b[0;34m(\u001b[0m\u001b[0mdata_ann_learnset\u001b[0m\u001b[0;34m[\u001b[0m\u001b[0;34m:\u001b[0m\u001b[0;34m,\u001b[0m \u001b[0;36m2\u001b[0m\u001b[0;34m]\u001b[0m\u001b[0;34m,\u001b[0m \u001b[0mold_ann_data_learnset\u001b[0m\u001b[0;34m[\u001b[0m\u001b[0;34m:\u001b[0m\u001b[0;34m,\u001b[0m \u001b[0;36m0\u001b[0m\u001b[0;34m]\u001b[0m\u001b[0;34m,\u001b[0m \u001b[0;34m'.'\u001b[0m\u001b[0;34m)\u001b[0m\u001b[0;34m\u001b[0m\u001b[0m\n\u001b[0m\u001b[1;32m      4\u001b[0m \u001b[0mplt\u001b[0m\u001b[0;34m.\u001b[0m\u001b[0mgrid\u001b[0m\u001b[0;34m(\u001b[0m\u001b[0;34m)\u001b[0m\u001b[0;34m\u001b[0m\u001b[0m\n\u001b[1;32m      5\u001b[0m \u001b[0mplt\u001b[0m\u001b[0;34m.\u001b[0m\u001b[0mshow\u001b[0m\u001b[0;34m(\u001b[0m\u001b[0;34m)\u001b[0m\u001b[0;34m\u001b[0m\u001b[0m\n",
      "\u001b[0;31mNameError\u001b[0m: name 'old_ann_data_learnset' is not defined"
     ]
    }
   ],
   "source": [
    "plt.figure()\n",
    "plt.plot(data_ann_learnset[:, 2], ann_data_learnset[:, 0], '.')\n",
    "plt.plot(data_ann_learnset[:, 2], old_ann_data_learnset[:, 0], '.')\n",
    "plt.grid()\n",
    "plt.show()"
   ]
  },
  {
   "cell_type": "markdown",
   "metadata": {},
   "source": [
    "op"
   ]
  },
  {
   "cell_type": "code",
   "execution_count": 10,
   "metadata": {
    "scrolled": false
   },
   "outputs": [
    {
     "data": {
      "image/png": "[encoded data removed]",
      "text/plain": [
       "<matplotlib.figure.Figure at 0x7f1d66cd7048>"
      ]
     },
     "metadata": {},
     "output_type": "display_data"
    }
   ],
   "source": [
    "plt.figure()\n",
    "plt.plot(data_ann_learnset[:, 2], ann_data_learnset[:, 1], '.')\n",
    "plt.plot(data_ann_learnset[:, 2], data_ann_learnset[:, 4], '.')\n",
    "plt.xlim(0,10)\n",
    "plt.ylim(0,35)\n",
    "plt.grid()\n",
    "plt.show()"
   ]
  },
  {
   "cell_type": "markdown",
   "metadata": {},
   "source": [
    "tet"
   ]
  },
  {
   "cell_type": "code",
   "execution_count": 20,
   "metadata": {
    "scrolled": false
   },
   "outputs": [
    {
     "data": {
      "image/png": "[encoded data removed]",
      "text/plain": [
       "<matplotlib.figure.Figure at 0x7f1d66fb88d0>"
      ]
     },
     "metadata": {},
     "output_type": "display_data"
    }
   ],
   "source": [
    "plt.figure()\n",
    "plt.plot(data_ann_learnset[:, 2], ann_data_learnset[:, 2], '.')\n",
    "plt.plot(data_ann_learnset[:, 2], data_ann_learnset[:, 5], '.')\n",
    "plt.xlim(0,10)\n",
    "plt.ylim(550, 725)\n",
    "plt.grid()\n",
    "plt.show()"
   ]
  },
  {
   "cell_type": "markdown",
   "metadata": {},
   "source": [
    "es"
   ]
  },
  {
   "cell_type": "code",
   "execution_count": 19,
   "metadata": {
    "scrolled": false
   },
   "outputs": [
    {
     "data": {
      "image/png": "[encoded data removed]",
      "text/plain": [
       "<matplotlib.figure.Figure at 0x7f1d66e8ceb8>"
      ]
     },
     "metadata": {},
     "output_type": "display_data"
    }
   ],
   "source": [
    "plt.figure()\n",
    "plt.plot(data_ann_learnset[:, 2], ann_data_learnset[:, 3], '.')\n",
    "plt.plot(data_ann_learnset[:, 2], data_ann_learnset[:, 6], '.')\n",
    "plt.xlim(0,10)\n",
    "plt.ylim(40,100)\n",
    "plt.grid()\n",
    "plt.show()"
   ]
  },
  {
   "cell_type": "markdown",
   "metadata": {},
   "source": [
    "## collecting pictures"
   ]
  },
  {
   "cell_type": "code",
   "execution_count": 28,
   "metadata": {},
   "outputs": [],
   "source": [
    "%rm -rf pic/*\n",
    "%mkdir pic/gt-mgp\n",
    "%mkdir pic/gt-op\n",
    "%mkdir pic/gt-tet\n",
    "%mkdir pic/gt-es"
   ]
  },
  {
   "cell_type": "code",
   "execution_count": 29,
   "metadata": {
    "collapsed": true
   },
   "outputs": [],
   "source": [
    "def get_pic():\n",
    "    ann_data_learnset = mln_sym.calc(learnset, DSOCKET)\n",
    "    data_ann_learnset = np.array([learnset[item][1] for item in range(7)])\n",
    "    data_ann_learnset = data_ann_learnset.T\n",
    "\n",
    "    plt.figure()\n",
    "    plt.plot(data_ann_learnset[:, 2], ann_data_learnset[:, 0], '.')\n",
    "    plt.plot(data_ann_learnset[:, 2], data_ann_learnset[:, 3], '.')\n",
    "    plt.title('gt-mgp, itr={}'.format(itr))\n",
    "    plt.xlabel('gt, kg/hr')\n",
    "    plt.ylabel('mgp, kW')\n",
    "    plt.xlim(0,10)\n",
    "    plt.ylim(0,40)\n",
    "    plt.grid()\n",
    "    plt.savefig('pic/gt-mgp/gt-mgp-itr-{}.png'.format(itr))\n",
    "    plt.close()\n",
    "\n",
    "    plt.figure()\n",
    "    plt.plot(data_ann_learnset[:, 2], ann_data_learnset[:, 1], '.')\n",
    "    plt.plot(data_ann_learnset[:, 2], data_ann_learnset[:, 4], '.')\n",
    "    plt.title('gt-op, itr={}'.format(itr))\n",
    "    plt.xlabel('gt, kg/hr')\n",
    "    plt.ylabel('op, kW')\n",
    "    plt.xlim(0,10)\n",
    "    plt.ylim(0,35)\n",
    "    plt.grid()\n",
    "    plt.savefig('pic/gt-op/gt-op-itr-{}.png'.format(itr))\n",
    "    plt.close()\n",
    "\n",
    "    plt.figure()\n",
    "    plt.plot(data_ann_learnset[:, 2], ann_data_learnset[:, 2], '.')\n",
    "    plt.plot(data_ann_learnset[:, 2], data_ann_learnset[:, 5], '.')\n",
    "    plt.title('gt-tet, itr={}'.format(itr))\n",
    "    plt.xlabel('gt, kg/hr')\n",
    "    plt.ylabel('tet, degC')\n",
    "    plt.xlim(0,10)\n",
    "    plt.ylim(550, 725)\n",
    "    plt.grid()\n",
    "    plt.savefig('pic/gt-tet/gt-tet-itr-{}.png'.format(itr))\n",
    "    plt.close()\n",
    "\n",
    "    plt.figure()\n",
    "    plt.plot(data_ann_learnset[:, 2], ann_data_learnset[:, 3], '.')\n",
    "    plt.plot(data_ann_learnset[:, 2], data_ann_learnset[:, 6], '.')\n",
    "    plt.title('gt-es, itr={}'.format(itr))\n",
    "    plt.xlabel('gt, kg/hr')\n",
    "    plt.ylabel('es, krpm/min')\n",
    "    plt.xlim(0,10)\n",
    "    plt.ylim(40,100)\n",
    "    plt.grid()\n",
    "    plt.savefig('pic/gt-es/gt-es-itr-{}.png'.format(itr))\n",
    "    plt.close()"
   ]
  },
  {
   "cell_type": "code",
   "execution_count": 30,
   "metadata": {},
   "outputs": [
    {
     "name": "stdout",
     "output_type": "stream",
     "text": [
      "990000 0.99\n",
      "995000 0.995\n",
      "1000000 1.0\n"
     ]
    }
   ],
   "source": [
    "ccls = 0\n",
    "steps = 200\n",
    "chunk = 5000\n",
    "start = itr\n",
    "target = itr + steps*chunk\n",
    "for itrl in range(steps):\n",
    "    get_pic()\n",
    "    mln_sym.train(chunk, DSOCKET)\n",
    "    itr += chunk\n",
    "    ccls += 1\n",
    "    if ccls > 10:\n",
    "        clear_output()\n",
    "        ccls = 0\n",
    "    print(itr, (itr - start)/(steps*chunk))\n",
    "\n",
    "get_pic()"
   ]
  },
  {
   "cell_type": "markdown",
   "metadata": {},
   "source": [
    "## importing (deprecated)"
   ]
  },
  {
   "cell_type": "code",
   "execution_count": null,
   "metadata": {
    "collapsed": true
   },
   "outputs": [],
   "source": [
    "data_learnset = np.array([])\n",
    "with open('ann_data_uniform_indexed.csv') as datafile:\n",
    "    reader = csv.reader(datafile)\n",
    "    for row in reader:\n",
    "        data_learnset = np.append(data_learnset, row)\n",
    "data_learnset = data_learnset.astype(float)\n",
    "data_learnset = data_learnset.reshape(489, 4)"
   ]
  },
  {
   "cell_type": "code",
   "execution_count": null,
   "metadata": {
    "collapsed": true
   },
   "outputs": [],
   "source": [
    "learnset_ind = np.array([])\n",
    "with open('data_ann_uniform_indexed.csv') as datafile:\n",
    "    reader = csv.reader(datafile)\n",
    "    for row in reader:\n",
    "        learnset_ind = np.append(learnset_ind, row)\n",
    "learnset_ind = learnset_ind.astype(float)\n",
    "learnset_ind = learnset_ind.reshape(7, 489)\n",
    "learnset_ind = learnset_ind.T"
   ]
  },
  {
   "cell_type": "code",
   "execution_count": null,
   "metadata": {
    "collapsed": true
   },
   "outputs": [],
   "source": [
    "data_uniform = np.array([])\n",
    "with open('data_ANN_uniform.csv') as datafile:\n",
    "    reader = csv.reader(datafile)\n",
    "    for row in reader:\n",
    "        data_uniform = np.append(data_uniform, row)\n",
    "data_uniform = data_uniform.astype(float)\n",
    "data_uniform = data_uniform.reshape(700, 7)"
   ]
  },
  {
   "cell_type": "markdown",
   "metadata": {},
   "source": [
    "MGP"
   ]
  },
  {
   "cell_type": "code",
   "execution_count": null,
   "metadata": {
    "collapsed": true,
    "scrolled": true
   },
   "outputs": [],
   "source": [
    "plt.figure()\n",
    "plt.plot(learnset_ind[:, 2], data_learnset[:, 0], '.')\n",
    "plt.plot(data_uniform[:, 2], data_uniform[:, 3]*0.001, '.')\n",
    "plt.grid()\n",
    "plt.show()"
   ]
  },
  {
   "cell_type": "markdown",
   "metadata": {},
   "source": [
    "OP"
   ]
  },
  {
   "cell_type": "code",
   "execution_count": null,
   "metadata": {
    "collapsed": true,
    "scrolled": true
   },
   "outputs": [],
   "source": [
    "plt.figure()\n",
    "plt.plot(learnset_ind[:, 2], data_learnset[:, 1], '.')\n",
    "plt.plot(data_uniform[:, 2], data_uniform[:, 4]*0.001, '.')\n",
    "plt.grid()\n",
    "plt.show()"
   ]
  },
  {
   "cell_type": "markdown",
   "metadata": {},
   "source": [
    "TET"
   ]
  },
  {
   "cell_type": "code",
   "execution_count": null,
   "metadata": {
    "collapsed": true,
    "scrolled": true
   },
   "outputs": [],
   "source": [
    "plt.figure()\n",
    "plt.plot(learnset_ind[:, 2], data_learnset[:, 2], '.')\n",
    "plt.plot(data_uniform[:, 2], data_uniform[:, 5], '.')\n",
    "plt.grid()\n",
    "plt.show()"
   ]
  },
  {
   "cell_type": "code",
   "execution_count": null,
   "metadata": {
    "collapsed": true,
    "scrolled": true
   },
   "outputs": [],
   "source": [
    "plt.figure()\n",
    "plt.plot(learnset_ind[:, 2], data_learnset[:, 3], '.')\n",
    "plt.plot(data_uniform[:, 2], data_uniform[:, 6]*0.001, '.')\n",
    "plt.grid()\n",
    "plt.show()"
   ]
  }
 ],
 "metadata": {
  "kernelspec": {
   "display_name": "Python 3",
   "language": "python",
   "name": "python3"
  },
  "language_info": {
   "codemirror_mode": {
    "name": "ipython",
    "version": 3
   },
   "file_extension": ".py",
   "mimetype": "text/x-python",
   "name": "python",
   "nbconvert_exporter": "python",
   "pygments_lexer": "ipython3",
   "version": "3.6.1"
  }
 },
 "nbformat": 4,
 "nbformat_minor": 2
}
