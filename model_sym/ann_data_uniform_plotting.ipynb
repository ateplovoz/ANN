{
 "cells": [
  {
   "cell_type": "code",
   "execution_count": 1,
   "metadata": {
    "collapsed": true,
    "scrolled": true
   },
   "outputs": [],
   "source": [
    "import csv\n",
    "from importlib import reload\n",
    "import numpy as np\n",
    "import matplotlib.pyplot as plt\n",
    "import tensorflow as tf\n",
    "from IPython.display import clear_output"
   ]
  },
  {
   "cell_type": "code",
   "execution_count": null,
   "metadata": {
    "collapsed": true,
    "scrolled": true
   },
   "outputs": [],
   "source": [
    "reload(ann)"
   ]
  },
  {
   "cell_type": "code",
   "execution_count": null,
   "metadata": {},
   "outputs": [],
   "source": [
    "[mln_sym.sess.run(item.oo, feed_dict=DSOCKET.get_feeder()) for item in mln_sym.LL[0].VN]"
   ]
  },
  {
   "cell_type": "code",
   "execution_count": 2,
   "metadata": {
    "collapsed": true
   },
   "outputs": [],
   "source": [
    "%run model_uniform.py\n",
    "mln_sym.init_sess()\n",
    "itr = 0"
   ]
  },
  {
   "cell_type": "code",
   "execution_count": null,
   "metadata": {
    "collapsed": true
   },
   "outputs": [],
   "source": [
    "tf.reset_default_graph()\n",
    "reload(ann)\n",
    "%run model_uniform.py\n",
    "mln_sym.TDELTA = 0.1\n",
    "mln_sym.init_sess()\n",
    "itr = 0"
   ]
  },
  {
   "cell_type": "code",
   "execution_count": null,
   "metadata": {
    "collapsed": true
   },
   "outputs": [],
   "source": [
    "mln_sym.tune_weight(0, 4., mln_sym.sess)"
   ]
  },
  {
   "cell_type": "code",
   "execution_count": null,
   "metadata": {},
   "outputs": [],
   "source": [
    "[mln_sym.sess.run(item, feed_dict=DSOCKET.get_feeder()) for item in mln_sym.LL[0].VN[0].ww]"
   ]
  },
  {
   "cell_type": "code",
   "execution_count": 16,
   "metadata": {},
   "outputs": [
    {
     "name": "stdout",
     "output_type": "stream",
     "text": [
      "299000 0.99\n",
      "299100 0.991\n",
      "299200 0.992\n",
      "299300 0.993\n",
      "299400 0.994\n",
      "299500 0.995\n",
      "299600 0.996\n",
      "299700 0.997\n",
      "299800 0.998\n",
      "299900 0.999\n",
      "300000 1.0\n"
     ]
    }
   ],
   "source": [
    "ccls = 0\n",
    "steps = 1000\n",
    "chunk = 100\n",
    "start = itr\n",
    "target = itr + steps*chunk\n",
    "for itrl in range(steps):\n",
    "    mln_sym.train(chunk, DSOCKET)\n",
    "    itr += chunk\n",
    "    ccls += 1\n",
    "    if ccls > 10:\n",
    "        clear_output()\n",
    "        ccls = 0\n",
    "    print(itr, (itr - start)/(steps*chunk))"
   ]
  },
  {
   "cell_type": "code",
   "execution_count": 11,
   "metadata": {
    "collapsed": true
   },
   "outputs": [],
   "source": [
    "old_ann_data_learnset = ann_data_learnset"
   ]
  },
  {
   "cell_type": "code",
   "execution_count": 17,
   "metadata": {
    "collapsed": true
   },
   "outputs": [],
   "source": [
    "ann_data_learnset = mln_sym.calc(learnset, DSOCKET)\n",
    "data_ann_learnset = np.array([learnset[item][1] for item in range(7)])\n",
    "data_ann_learnset = data_ann_learnset.T"
   ]
  },
  {
   "cell_type": "markdown",
   "metadata": {},
   "source": [
    "mgp"
   ]
  },
  {
   "cell_type": "code",
   "execution_count": 18,
   "metadata": {
    "scrolled": true
   },
   "outputs": [
    {
     "data": {
      "image/png": "[encoded data removed]",
      "text/plain": [
       "<matplotlib.figure.Figure at 0x7ff4686fe320>"
      ]
     },
     "metadata": {},
     "output_type": "display_data"
    }
   ],
   "source": [
    "plt.figure()\n",
    "plt.plot(data_ann_learnset[:, 2], ann_data_learnset[:, 0], '.')\n",
    "plt.plot(data_ann_learnset[:, 2], data_ann_learnset[:, 3], '.')\n",
    "plt.grid()\n",
    "plt.show()"
   ]
  },
  {
   "cell_type": "code",
   "execution_count": null,
   "metadata": {
    "scrolled": true
   },
   "outputs": [],
   "source": [
    "plt.figure()\n",
    "plt.plot(data_ann_learnset[:, 2], ann_data_learnset[:, 0], '.')\n",
    "plt.plot(data_ann_learnset[:, 2], old_ann_data_learnset[:, 0], '.')\n",
    "plt.grid()\n",
    "plt.show()"
   ]
  },
  {
   "cell_type": "markdown",
   "metadata": {},
   "source": [
    "op"
   ]
  },
  {
   "cell_type": "code",
   "execution_count": 19,
   "metadata": {
    "scrolled": false
   },
   "outputs": [
    {
     "data": {
      "image/png": "[encoded data removed]",
      "text/plain": [
       "<matplotlib.figure.Figure at 0x7ff46848f9e8>"
      ]
     },
     "metadata": {},
     "output_type": "display_data"
    }
   ],
   "source": [
    "plt.figure()\n",
    "plt.plot(data_ann_learnset[:, 2], ann_data_learnset[:, 1], '.')\n",
    "plt.plot(data_ann_learnset[:, 2], data_ann_learnset[:, 4], '.')\n",
    "plt.grid()\n",
    "plt.show()"
   ]
  },
  {
   "cell_type": "markdown",
   "metadata": {},
   "source": [
    "tet"
   ]
  },
  {
   "cell_type": "code",
   "execution_count": 20,
   "metadata": {
    "scrolled": false
   },
   "outputs": [
    {
     "data": {
      "image/png": "[encoded data removed]",
      "text/plain": [
       "<matplotlib.figure.Figure at 0x7ff4681ed6d8>"
      ]
     },
     "metadata": {},
     "output_type": "display_data"
    }
   ],
   "source": [
    "plt.figure()\n",
    "plt.plot(data_ann_learnset[:, 2], ann_data_learnset[:, 2], '.')\n",
    "plt.plot(data_ann_learnset[:, 2], data_ann_learnset[:, 5], '.')\n",
    "plt.grid()\n",
    "plt.show()"
   ]
  },
  {
   "cell_type": "markdown",
   "metadata": {},
   "source": [
    "es"
   ]
  },
  {
   "cell_type": "code",
   "execution_count": 21,
   "metadata": {
    "scrolled": false
   },
   "outputs": [
    {
     "data": {
      "image/png": "[encoded data removed]",
      "text/plain": [
       "<matplotlib.figure.Figure at 0x7ff468106b00>"
      ]
     },
     "metadata": {},
     "output_type": "display_data"
    }
   ],
   "source": [
    "plt.figure()\n",
    "plt.plot(data_ann_learnset[:, 2], ann_data_learnset[:, 3], '.')\n",
    "plt.plot(data_ann_learnset[:, 2], data_ann_learnset[:, 6], '.')\n",
    "plt.grid()\n",
    "plt.show()"
   ]
  },
  {
   "cell_type": "markdown",
   "metadata": {},
   "source": [
    "## importing (deprecated)"
   ]
  },
  {
   "cell_type": "code",
   "execution_count": null,
   "metadata": {
    "collapsed": true
   },
   "outputs": [],
   "source": [
    "data_learnset = np.array([])\n",
    "with open('ann_data_uniform_indexed.csv') as datafile:\n",
    "    reader = csv.reader(datafile)\n",
    "    for row in reader:\n",
    "        data_learnset = np.append(data_learnset, row)\n",
    "data_learnset = data_learnset.astype(float)\n",
    "data_learnset = data_learnset.reshape(489, 4)"
   ]
  },
  {
   "cell_type": "code",
   "execution_count": null,
   "metadata": {
    "collapsed": true
   },
   "outputs": [],
   "source": [
    "learnset_ind = np.array([])\n",
    "with open('data_ann_uniform_indexed.csv') as datafile:\n",
    "    reader = csv.reader(datafile)\n",
    "    for row in reader:\n",
    "        learnset_ind = np.append(learnset_ind, row)\n",
    "learnset_ind = learnset_ind.astype(float)\n",
    "learnset_ind = learnset_ind.reshape(7, 489)\n",
    "learnset_ind = learnset_ind.T"
   ]
  },
  {
   "cell_type": "code",
   "execution_count": null,
   "metadata": {
    "collapsed": true
   },
   "outputs": [],
   "source": [
    "data_uniform = np.array([])\n",
    "with open('data_ANN_uniform.csv') as datafile:\n",
    "    reader = csv.reader(datafile)\n",
    "    for row in reader:\n",
    "        data_uniform = np.append(data_uniform, row)\n",
    "data_uniform = data_uniform.astype(float)\n",
    "data_uniform = data_uniform.reshape(700, 7)"
   ]
  },
  {
   "cell_type": "markdown",
   "metadata": {},
   "source": [
    "MGP"
   ]
  },
  {
   "cell_type": "code",
   "execution_count": null,
   "metadata": {
    "collapsed": true,
    "scrolled": true
   },
   "outputs": [],
   "source": [
    "plt.figure()\n",
    "plt.plot(learnset_ind[:, 2], data_learnset[:, 0], '.')\n",
    "plt.plot(data_uniform[:, 2], data_uniform[:, 3]*0.001, '.')\n",
    "plt.grid()\n",
    "plt.show()"
   ]
  },
  {
   "cell_type": "markdown",
   "metadata": {},
   "source": [
    "OP"
   ]
  },
  {
   "cell_type": "code",
   "execution_count": null,
   "metadata": {
    "collapsed": true,
    "scrolled": true
   },
   "outputs": [],
   "source": [
    "plt.figure()\n",
    "plt.plot(learnset_ind[:, 2], data_learnset[:, 1], '.')\n",
    "plt.plot(data_uniform[:, 2], data_uniform[:, 4]*0.001, '.')\n",
    "plt.grid()\n",
    "plt.show()"
   ]
  },
  {
   "cell_type": "markdown",
   "metadata": {},
   "source": [
    "TET"
   ]
  },
  {
   "cell_type": "code",
   "execution_count": null,
   "metadata": {
    "collapsed": true,
    "scrolled": true
   },
   "outputs": [],
   "source": [
    "plt.figure()\n",
    "plt.plot(learnset_ind[:, 2], data_learnset[:, 2], '.')\n",
    "plt.plot(data_uniform[:, 2], data_uniform[:, 5], '.')\n",
    "plt.grid()\n",
    "plt.show()"
   ]
  },
  {
   "cell_type": "code",
   "execution_count": null,
   "metadata": {
    "collapsed": true,
    "scrolled": true
   },
   "outputs": [],
   "source": [
    "plt.figure()\n",
    "plt.plot(learnset_ind[:, 2], data_learnset[:, 3], '.')\n",
    "plt.plot(data_uniform[:, 2], data_uniform[:, 6]*0.001, '.')\n",
    "plt.grid()\n",
    "plt.show()"
   ]
  }
 ],
 "metadata": {
  "kernelspec": {
   "display_name": "Python 3",
   "language": "python",
   "name": "python3"
  },
  "language_info": {
   "codemirror_mode": {
    "name": "ipython",
    "version": 3
   },
   "file_extension": ".py",
   "mimetype": "text/x-python",
   "name": "python",
   "nbconvert_exporter": "python",
   "pygments_lexer": "ipython3",
   "version": "3.6.1"
  }
 },
 "nbformat": 4,
 "nbformat_minor": 2
}
